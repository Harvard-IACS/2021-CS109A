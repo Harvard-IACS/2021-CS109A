{
    "metadata": {
        "kernelspec": {
            "name": "python3",
            "display_name": "Python 3",
            "language": "python"
        }
    },
    "nbformat": 4,
    "nbformat_minor": 4,
    "cells": [
        {
            "attachments": {},
            "cell_type": "markdown",
            "metadata": {},
            "source": [
                "# \u003cimg style=\"float: left; padding-right: 10px; width: 45px\" src=\"https://raw.githubusercontent.com/Harvard-IACS/2018-CS109A/master/content/styles/iacs.png\"\u003e CS109A Introduction to Data Science \n",
                "\n",
                "## Lab 01: Introduction to Web Scraping\n",
                "\n",
                "**Harvard University**\u003cbr/\u003e\n",
                "**Fall 2021**\u003cbr/\u003e\n",
                "**Instructors**: Pavlos Protopapas and Natesh Pillai\u003cbr/\u003e\n",
                "**Lab Team**: Marios Mattheakis, Hayden Joy, Chris Gumb, and Eleni Kaxiras\u003cbr/\u003e\n",
                "**Authors**: Varshini Reddy, Marios Mattheakis and Pavlos Protopapas\n",
                "\n",
                "\n",
                "\u003chr style='height:2px'\u003e"
            ]
        },
        {
            "cell_type": "code",
            "execution_count": 21,
            "metadata": {},
            "outputs": [
                {
                    "data": {
                        "text/html": "\u003cstyle\u003e\nblockquote { background: #AEDE94; }\nh1 { \n    padding-top: 25px;\n    padding-bottom: 25px;\n    text-align: left; \n    padding-left: 10px;\n    background-color: #DDDDDD; \n    color: black;\n}\nh2 { \n    padding-top: 10px;\n    padding-bottom: 10px;\n    text-align: left; \n    padding-left: 5px;\n    background-color: #EEEEEE; \n    color: black;\n}\n\ndiv.exercise {\n\tbackground-color: #ffcccc;\n\tborder-color: #E9967A; \t\n\tborder-left: 5px solid #800080; \n\tpadding: 0.5em;\n}\n\ndiv.exercise-r {\n\tbackground-color: #fce8e8;\n\tborder-color: #E9967A; \t\n\tborder-left: 5px solid #800080; \n\tpadding: 0.5em;\n}\n\n\nspan.sub-q {\n\tfont-weight: bold;\n}\ndiv.theme {\n\tbackground-color: #DDDDDD;\n\tborder-color: #E9967A; \t\n\tborder-left: 5px solid #800080; \n\tpadding: 0.5em;\n\tfont-size: 18pt;\n}\ndiv.gc { \n\tbackground-color: #AEDE94;\n\tborder-color: #E9967A; \t \n\tborder-left: 5px solid #800080; \n\tpadding: 0.5em;\n\tfont-size: 12pt;\n}\np.q1 { \n    padding-top: 5px;\n    padding-bottom: 5px;\n    text-align: left; \n    padding-left: 5px;\n    background-color: #EEEEEE; \n    color: black;\n}\nheader {\n   padding-top: 35px;\n    padding-bottom: 35px;\n    text-align: left; \n    padding-left: 10px;\n    background-color: #DDDDDD; \n    color: black;\n}\n\u003c/style\u003e\n\n",
                        "text/plain": "\u003cIPython.core.display.HTML object\u003e"
                    },
                    "execution_count": 21,
                    "metadata": {},
                    "output_type": "execute_result"
                }
            ],
            "source": [
                "## RUN THIS CELL TO GET THE RIGHT FORMATTING \n",
                "import requests\n",
                "from IPython.core.display import HTML\n",
                "styles = requests.get(\"https://raw.githubusercontent.com/Harvard-IACS/2018-CS109A/master/content/styles/cs109.css\").text\n",
                "HTML(styles)\n",
                ""
            ]
        },
        {
            "attachments": {},
            "cell_type": "markdown",
            "metadata": {},
            "source": [
                "## Lab Learning Objectives\n",
                "\n",
                "When we're done today, you will approach messy real-world data with confidence that you can get it into a format that you can manipulate.\n",
                "\n",
                "Specifically, our learning objectives are:\n",
                "* Understand the tree-like structure of an HTML document and use that structure to extract desired information.\n",
                "* Use Python data structures such as lists, dictionaries to store and manipulate information.\n",
                "\n",
                "* Practice using [Python](https://docs.python.org/3.6/) packages such as [BeautifulSoup](https://www.crummy.com/software/BeautifulSoup/bs4/doc/), including how to navigate their documentation to find functionality.\n",
                "\n",
                "* Identify other (semi-)structured formats commonly used for storing and transferring data, such as CSV."
            ]
        },
        {
            "attachments": {},
            "cell_type": "markdown",
            "metadata": {},
            "source": [
                "## Pre-Requisites\n",
                "\n",
                "Before you start working on the lab, we expect you to be familiar with Python programming. Following is the list of topics you need to brush up on before attending the lab session. We have provided some quick start references as well.\n",
                "* Python Data Structures\n",
                "    - [Lists](https://towardsdatascience.com/a-complete-guide-to-python-lists-6b592c8d5707)\n",
                "    - [Dictionaries](https://medium.com/@faith.chikwekwe/how-dictionaries-work-in-python-162c6386c2cf)\n",
                "* [Functions](https://www.w3schools.com/python/python_scope.asp) in python\n",
                "* Python [classes](https://docs.python.org/3/tutorial/classes.html)\n",
                "* [Files](https://www.w3schools.com/python/python_file_handling.asp) and [strings](https://docs.python.org/3/tutorial/inputoutput.html)\n",
                ""
            ]
        },
        {
            "cell_type": "code",
            "execution_count": 16,
            "metadata": {},
            "outputs": [],
            "source": [
                "# Importing necessary libraries\n",
                "import numpy as np\n",
                "import matplotlib.pyplot as plt\n",
                "import pandas as pd\n",
                "from bs4 import BeautifulSoup\n",
                "import requests\n",
                "import json\n",
                "from IPython.display import HTML\n",
                "%matplotlib inline "
            ]
        },
        {
            "cell_type": "code",
            "execution_count": 2,
            "metadata": {},
            "outputs": [],
            "source": [
                "# Setting up 'requests' to make HTTPS requests properly takes some \n",
                "#       extra steps.\n",
                "\n",
                "requests.packages.urllib3.disable_warnings()\n",
                "\n",
                "import warnings\n",
                "warnings.filterwarnings(\"ignore\")\n",
                ""
            ]
        },
        {
            "attachments": {},
            "cell_type": "markdown",
            "metadata": {},
            "source": [
                "## Lab Data Analysis Questions\n",
                "\n",
                "Is science becoming more collaborative over time? How about literature? Are there a few \"geniuses\" or lots of hard workers? One way we might answer those questions is by looking at Nobel Prizes winners. We could ask questions like:\n",
                "\n",
                "* 1) Has anyone won a prize more than once?\n",
                "* 2) How has the total number of recipients changed over time?\n",
                "* 3) How has the number of recipients per award changed over time?\n",
                "\n",
                "\n",
                "To answer these questions, we will need data: *who* received *what* award and *when*. \n",
                ""
            ]
        },
        {
            "attachments": {},
            "cell_type": "markdown",
            "metadata": {},
            "source": [
                "## When possible: find a structured dataset (.csv, .json, .xls)\n",
                "\n",
                "After a google search we stumble upon this [dataset on github](https://github.com/OpenRefine/OpenRefine/blob/master/main/tests/data/nobel-prize-winners.csv). It is also in the lab folder named `github-nobel-prize-winners.csv`.\n",
                "\n",
                "We use Pandas to read it. Pandas will be covered next week in more details. "
            ]
        },
        {
            "cell_type": "code",
            "execution_count": 5,
            "metadata": {
                "scrolled": true
            },
            "outputs": [
                {
                    "data": {
                        "text/html": "\u003cdiv\u003e\n\u003cstyle scoped\u003e\n    .dataframe tbody tr th:only-of-type {\n        vertical-align: middle;\n    }\n\n    .dataframe tbody tr th {\n        vertical-align: top;\n    }\n\n    .dataframe thead th {\n        text-align: right;\n    }\n\u003c/style\u003e\n\u003ctable border=\"1\" class=\"dataframe\"\u003e\n  \u003cthead\u003e\n    \u003ctr style=\"text-align: right;\"\u003e\n      \u003cth\u003e\u003c/th\u003e\n      \u003cth\u003eyear\u003c/th\u003e\n      \u003cth\u003ediscipline\u003c/th\u003e\n      \u003cth\u003ewinner\u003c/th\u003e\n      \u003cth\u003edesc\u003c/th\u003e\n    \u003c/tr\u003e\n  \u003c/thead\u003e\n  \u003ctbody\u003e\n    \u003ctr\u003e\n      \u003cth\u003e0\u003c/th\u003e\n      \u003ctd\u003e1901\u003c/td\u003e\n      \u003ctd\u003echemistry\u003c/td\u003e\n      \u003ctd\u003eJacobus H. van 't Hoff\u003c/td\u003e\n      \u003ctd\u003ein recognition of the extraordinary services h...\u003c/td\u003e\n    \u003c/tr\u003e\n    \u003ctr\u003e\n      \u003cth\u003e1\u003c/th\u003e\n      \u003ctd\u003e1901\u003c/td\u003e\n      \u003ctd\u003eliterature\u003c/td\u003e\n      \u003ctd\u003eSully Prudhomme\u003c/td\u003e\n      \u003ctd\u003ein special recognition of his poetic compositi...\u003c/td\u003e\n    \u003c/tr\u003e\n    \u003ctr\u003e\n      \u003cth\u003e2\u003c/th\u003e\n      \u003ctd\u003e1901\u003c/td\u003e\n      \u003ctd\u003emedicine\u003c/td\u003e\n      \u003ctd\u003eEmil von Behring\u003c/td\u003e\n      \u003ctd\u003efor his work on serum therapy, especially its ...\u003c/td\u003e\n    \u003c/tr\u003e\n    \u003ctr\u003e\n      \u003cth\u003e3\u003c/th\u003e\n      \u003ctd\u003e1901\u003c/td\u003e\n      \u003ctd\u003epeace\u003c/td\u003e\n      \u003ctd\u003eHenry Dunant\u003c/td\u003e\n      \u003ctd\u003eNaN\u003c/td\u003e\n    \u003c/tr\u003e\n    \u003ctr\u003e\n      \u003cth\u003e4\u003c/th\u003e\n      \u003ctd\u003e1901\u003c/td\u003e\n      \u003ctd\u003epeace\u003c/td\u003e\n      \u003ctd\u003eFr\u0026amp;eacute;d\u0026amp;eacute;ric Passy\u003c/td\u003e\n      \u003ctd\u003eNaN\u003c/td\u003e\n    \u003c/tr\u003e\n  \u003c/tbody\u003e\n\u003c/table\u003e\n\u003c/div\u003e",
                        "text/plain": "   year  discipline                        winner  \\\n0  1901   chemistry        Jacobus H. van 't Hoff   \n1  1901  literature               Sully Prudhomme   \n2  1901    medicine              Emil von Behring   \n3  1901       peace                  Henry Dunant   \n4  1901       peace  Fr\u0026eacute;d\u0026eacute;ric Passy   \n\n                                                desc  \n0  in recognition of the extraordinary services h...  \n1  in special recognition of his poetic compositi...  \n2  for his work on serum therapy, especially its ...  \n3                                                NaN  \n4                                                NaN  "
                    },
                    "execution_count": 5,
                    "metadata": {},
                    "output_type": "execute_result"
                }
            ],
            "source": [
                "df = pd.read_csv(\"data/github-nobel-prize-winners.csv\")\n",
                "df.head() \n",
                ""
            ]
        },
        {
            "attachments": {},
            "cell_type": "markdown",
            "metadata": {},
            "source": [
                "## Research Question 1: Did anyone recieve the Nobel Prize more than once?"
            ]
        },
        {
            "attachments": {},
            "cell_type": "markdown",
            "metadata": {},
            "source": [
                "**How would you check if anyone recieved more than one nobel prize?**\n",
                "\n",
                "We will be using Python lists for this, which is a pre-requisite for this lab as mentioned earlier. If you have any questions with regards to lists or list comprehensions, refer to the slides from us [here](references/Lists.pdf)."
            ]
        },
        {
            "cell_type": "code",
            "execution_count": 6,
            "metadata": {},
            "outputs": [],
            "source": [
                "# Initialize the list storing all the names \n",
                "name_winners = []\n",
                "\n",
                "for name in df.winner:\n",
                "    \n",
                "    # Check if we already encountered this name: \n",
                "    if name in name_winners:\n",
                "        \n",
                "        # (TODO) If so, print the name\n",
                "        print(___)\n",
                "    else:\n",
                "        # (TODO) Otherwise append the name to the list\n",
                "        name_winners.append(___)\n",
                "        "
            ]
        },
        {
            "attachments": {},
            "cell_type": "markdown",
            "metadata": {},
            "source": [
                "**We don't want to print \"No Prize was Awarded\" all the time.**"
            ]
        },
        {
            "cell_type": "code",
            "execution_count": 7,
            "metadata": {},
            "outputs": [],
            "source": [
                "# List storing all the names \n",
                "name_winners = []\n",
                "\n",
                "for name in df.winner:\n",
                "    \n",
                "    # (TODO) Check if we already encountered this name and the name is not \"No Prize was Awarded\": \n",
                "    if name in name_winners and name != ___ : \n",
                "        # (TODO) If so, print the name\n",
                "        print(___)\n",
                "        \n",
                "    else:\n",
                "        # (TODO) Otherwise append the name to the list\n",
                "        name_winners.append(___)\n",
                "        "
            ]
        },
        {
            "attachments": {},
            "cell_type": "markdown",
            "metadata": {},
            "source": [
                "#### we can use .split() on a string to separate the words into individual strings and store them in a list.\n",
                "Experiment with the .split() below before using it. \n",
                ""
            ]
        },
        {
            "cell_type": "code",
            "execution_count": 9,
            "metadata": {},
            "outputs": [
                {
                    "name": "stdout",
                    "output_type": "stream",
                    "text": "['Office', 'of', 'the', 'United', 'Nations']\nNumber of words: 5\n"
                }
            ],
            "source": [
                "UN_string = \"Office of the United Nations\"\n",
                "print(UN_string.split())\n",
                "n_words = len(UN_string.split())\n",
                "print(\"Number of words: \" + str(n_words));\n",
                ""
            ]
        },
        {
            "attachments": {},
            "cell_type": "markdown",
            "metadata": {},
            "source": [
                "Let us only print winners with only two words in their name:"
            ]
        },
        {
            "cell_type": "code",
            "execution_count": 8,
            "metadata": {},
            "outputs": [],
            "source": [
                "name_winners = []\n",
                "\n",
                "for name in df.winner:\n",
                "    \n",
                "    # (TODO) Check if we already encountered this name and the name consists of no more than 2 words: \n",
                "    if name in name_winners and len(___) \u003c= 2: \n",
                "        # (TODO) If so, print the name\n",
                "        print(___)\n",
                "        \n",
                "    else:\n",
                "        # (TODO) Otherwise append the name to the list\n",
                "        name_winners.append(___)\n",
                "        "
            ]
        },
        {
            "attachments": {},
            "cell_type": "markdown",
            "metadata": {},
            "source": [
                "![mariecurie.png](images/Curie.jpg)\n",
                "\n",
                "Marie Curie recieved the nobel prize in physics in 1903 and chemistry in 1911.\n",
                "She is one of only four people to recieve two Nobel Prizes."
            ]
        },
        {
            "attachments": {},
            "cell_type": "markdown",
            "metadata": {},
            "source": [
                "All questions, such as \"did anyone receive the Noble Price more than once?\", are easy to answer when the data is present in such a clean tabular form. However, many times (if not most) we do not find the data we need in such a format. \n",
                "\n",
                "In such cases, we need to perform web scraping and cleaning to get the data we desire. The end result of this lab is to create a pandas dataframe after web scraping and cleaning.\n",
                ""
            ]
        },
        {
            "attachments": {},
            "cell_type": "markdown",
            "metadata": {},
            "source": [
                "# WEB SCRAPING\n",
                ""
            ]
        },
        {
            "attachments": {},
            "cell_type": "markdown",
            "metadata": {},
            "source": [
                "#### The first step in web scraping is to understand the HTML structure of the webpage.\n",
                "\n",
                "#### But, what is HTML?"
            ]
        },
        {
            "attachments": {},
            "cell_type": "markdown",
            "metadata": {},
            "source": [
                "HTML stands for Hyper Text Markup Language. It is the standard markup language for documents designed to be displayed in a web browser. It can be assisted by technologies such as Cascading Style Sheets and scripting languages such as JavaScript."
            ]
        },
        {
            "attachments": {},
            "cell_type": "markdown",
            "metadata": {},
            "source": [
                "### Standard HTML documents\n",
                "\n",
                "HTML documents generally have the following structure:"
            ]
        },
        {
            "attachments": {},
            "cell_type": "markdown",
            "metadata": {},
            "source": [
                "\u003cdiv class=\"alert alert-block alert-danger\" style=\"color:black;background-color:#EBEBEB\"\u003e\n",
                "\n",
                "**\\\u003c!DOCTYPE html\u003e**\n",
                "\n",
                "**\\\u003chtml\u003e**\n",
                "\n",
                "**\\\u003chead\u003e**\n",
                "\n",
                "**\\\u003ctitle\u003ePage Title\\\u003c/title\u003e**\n",
                "\n",
                "**\\\u003c/head\u003e**\n",
                "\n",
                "**\\\u003cbody\u003e**\n",
                "\n",
                "**\\\u003ch1\u003ePage Heading\\\u003c/h1\u003e**\n",
                "\n",
                "**\\\u003cp\u003eThe first paragraph of page\\\u003c/p\u003e**\n",
                "\n",
                "**.**\n",
                "\n",
                "**.**\n",
                "\n",
                "**.**\n",
                "\n",
                "**.**\n",
                "\n",
                "**\\\u003c/body\u003e**\n",
                "\n",
                "**\\\u003c/html\u003e**\n",
                "    \n",
                "\u003c/div\u003e"
            ]
        },
        {
            "attachments": {},
            "cell_type": "markdown",
            "metadata": {},
            "source": [
                "### What does each of these tags indicate?\n",
                "\n",
                "- The **\\\u003c!DOCTYPE html\u003e** declaration defines that this document is an HTML5 document\n",
                "\n",
                "- The **\\\u003chtml\u003e** element is the root element of an HTML page\n",
                "\n",
                "- The **\\\u003chead\u003e** element contains meta information about the HTML page\n",
                "\n",
                "- The **\\\u003ctitle\u003e** element specifies a title for the HTML page (which is shown in the browser's title bar or in the page's tab)\n",
                "\n",
                "- The **\\\u003cbody\u003e** element defines the document's body, and is a container for all the visible contents, such as headings, paragraphs, images, hyperlinks, tables, lists, etc.\n",
                "\n",
                "- The **\\\u003ch1\u003e** element defines a large heading. There are other heading tags in html, **\\\u003ch2\u003e, \\\u003ch3\u003e, \\\u003ch4\u003e, \\\u003ch5\u003e, \\\u003ch6\u003e**\n",
                "\n",
                "- The **\\\u003cp\u003e** element defines a paragraph\n",
                ""
            ]
        },
        {
            "attachments": {},
            "cell_type": "markdown",
            "metadata": {},
            "source": [
                "### What is an HTML Element?\n",
                "\n",
                "An HTML element is defined by a start tag, some content, and an end tag:\n",
                "\n",
                "**\\\u003ctagname\u003e Tag content \\\u003c/tagname\u003e**\n",
                "\n",
                "An example of an HTML element is as follows:\n",
                "\n",
                "**\\\u003ch1\u003e The Page Heading \\\u003c/h1\u003e**\n",
                "\n",
                ""
            ]
        },
        {
            "attachments": {},
            "cell_type": "markdown",
            "metadata": {},
            "source": [
                "### WEB SCRAPING\n",
                "\n",
                "\n",
                "The official \u003ca href = https://www.nobelprize.org/prizes/lists/all-nobel-prizes/\u003e Nobel website \u003c/a\u003e has the data we want, but in 2018 and 2019 the physics prize was awarded to multiple groups so we will use an archived version of the web-page for an easier introduction to web scraping.\n",
                ""
            ]
        },
        {
            "attachments": {},
            "cell_type": "markdown",
            "metadata": {},
            "source": [
                "The Internet Archive periodically crawls most of the Internet and saves what it finds. (That's a lot of data!) So let's grab the data from the Archive's \"Wayback Machine\" (great name!). We've just given you the direct URL, but at the very end you'll see how we can get it out of a JSON response from the Wayback Machine API.\n",
                "\n",
                "\n",
                "Let's take a look at the [2018 version of the Nobel website](http://web.archive.org/web/20180820111639/https://www.nobelprize.org/prizes/lists/all-nobel-prizes/) and to look at the underhood HTML: right-click and click on `inspect`.You should see something like this.\n",
                "\n",
                "\n",
                "\u003cimg src=\"images/inspect-element.png\" alt=\"Inspect\" style=\"width:1000px\"\u003e\n",
                "\n",
                ""
            ]
        },
        {
            "attachments": {},
            "cell_type": "markdown",
            "metadata": {},
            "source": [
                "### Mapping the HTML tags to the webpage\n",
                "\n",
                "When you inspect, try to map each element on the webpage to its HTML. \n",
                "\n",
                "\u003cimg src=\"images/html2.png\" alt=\"HTML\" style=\"width:1000px\"\u003e"
            ]
        },
        {
            "cell_type": "code",
            "execution_count": 12,
            "metadata": {},
            "outputs": [
                {
                    "data": {
                        "text/html": "         \u003cdiv class =\"Class: by year\"\u003e               \u003ch3\u003e                  \u003ca href=\"http://web.archive.org/web/20180820111639/https://www.nobelprize.org/nobel_prizes/physics/laureates/1921/\"\u003e                         The Nobel Prize in Physics 1921                   \u003c/a\u003e              \u003c/h3\u003e              \u003ch6\u003e                  \u003ca href=\"http://web.archive.org/web/20180820111639/https://www.nobelprize.org/nobel_prizes/physics/laureates/1921/einstein-facts.html\"\u003e                        Albert Einstein\u003c/a\u003e              \u003c/h6\u003e              \u003cp\u003e                  “for his services to Theoretical Physics, and especially for his discovery of the law of the photoelectric effect”              \u003c/p\u003e         ",
                        "text/plain": "\u003cIPython.core.display.HTML object\u003e"
                    },
                    "metadata": {},
                    "output_type": "display_data"
                }
            ],
            "source": [
                "# here is what we will get after selecting using the class by year tag.\n",
                "# we use the HTML parser module to render the html \n",
                "\n",
                "einstein = HTML('\\\n",
                "         \u003cdiv class =\"Class: by year\"\u003e  \\\n",
                "             \u003ch3\u003e \\\n",
                "                 \u003ca href=\"http://web.archive.org/web/20180820111639/https://www.nobelprize.org/nobel_prizes/physics/laureates/1921/\"\u003e \\\n",
                "                        The Nobel Prize in Physics 1921 \\\n",
                "                  \u003c/a\u003e \\\n",
                "             \u003c/h3\u003e \\\n",
                "             \u003ch6\u003e \\\n",
                "                 \u003ca href=\"http://web.archive.org/web/20180820111639/https://www.nobelprize.org/nobel_prizes/physics/laureates/1921/einstein-facts.html\"\u003e\\\n",
                "                        Albert Einstein\u003c/a\u003e \\\n",
                "             \u003c/h6\u003e \\\n",
                "             \u003cp\u003e \\\n",
                "                 “for his services to Theoretical Physics, and especially for his discovery of the law of the photoelectric effect” \\\n",
                "             \u003c/p\u003e \\\n",
                "        ')\n",
                "display(einstein)"
            ]
        },
        {
            "cell_type": "code",
            "execution_count": 23,
            "metadata": {},
            "outputs": [],
            "source": [
                "snapshot_url = 'http://web.archive.org/web/20180820111639/https://www.nobelprize.org/prizes/lists/all-nobel-prizes/'"
            ]
        },
        {
            "cell_type": "code",
            "execution_count": 0,
            "metadata": {},
            "outputs": [],
            "source": [
                "# (TODO) make a GET request to snapshot_url\n",
                "snapshot = requests.get(___)\n",
                "snapshot"
            ]
        },
        {
            "attachments": {},
            "cell_type": "markdown",
            "metadata": {},
            "source": [
                "Response [200] is a success status code. Let's google: [`response 200 meaning`](https://www.google.com/search?q=response+200+meaning\u0026oq=response+%5B200%5D+m\u0026aqs=chrome.1.69i57j0l5.6184j0j7\u0026sourceid=chrome\u0026ie=UTF-8). All possible codes [here](https://developer.mozilla.org/en-US/docs/Web/HTTP/Status)."
            ]
        },
        {
            "cell_type": "code",
            "execution_count": 14,
            "metadata": {},
            "outputs": [],
            "source": [
                "type(snapshot)"
            ]
        },
        {
            "attachments": {},
            "cell_type": "markdown",
            "metadata": {},
            "source": [
                "Try to request \"www.xoogle.be\". What happens?"
            ]
        },
        {
            "cell_type": "code",
            "execution_count": 15,
            "metadata": {},
            "outputs": [],
            "source": [
                "snapshot_url2 = 'http://web.archive.org/web/20180820111639/https://www.xoogle.be'\n",
                "# (TODO) make a GET request to snapshot_url2\n",
                "snapshot = requests.get(___)\n",
                "snapshot"
            ]
        },
        {
            "attachments": {},
            "cell_type": "markdown",
            "metadata": {},
            "source": [
                "Always remember to “not to be evil” when scraping with requests! If downloading multiple pages (like you will be doing on HW1), always put a delay between requests (e.g., `time.sleep(1)`, with the `time` library), so you do not unwittingly hammer someone’s webserver and/or get blocked."
            ]
        },
        {
            "attachments": {},
            "cell_type": "markdown",
            "metadata": {},
            "source": [
                "Let's look at the content we just scraped!"
            ]
        },
        {
            "cell_type": "code",
            "execution_count": 0,
            "metadata": {},
            "outputs": [],
            "source": [
                "snapshot = requests.get(snapshot_url)\n",
                "raw_html = snapshot.text\n",
                "print(raw_html[:5000])"
            ]
        },
        {
            "attachments": {},
            "cell_type": "markdown",
            "metadata": {},
            "source": [
                "\u003chr\u003e\n",
                "\n",
                "# What makes Python special ?"
            ]
        },
        {
            "attachments": {},
            "cell_type": "markdown",
            "metadata": {},
            "source": [
                "![images/CustomPython.png](images/CustomPython.png \"Title\")"
            ]
        },
        {
            "attachments": {},
            "cell_type": "markdown",
            "metadata": {},
            "source": [
                "![images/StandardLibrary.png](images/StandardLibrary.png \"Title\")"
            ]
        },
        {
            "attachments": {},
            "cell_type": "markdown",
            "metadata": {},
            "source": [
                "![images/ThirdParty.png](images/ThirdParty.png \"Title\")"
            ]
        },
        {
            "attachments": {},
            "cell_type": "markdown",
            "metadata": {},
            "source": [
                "![images/Gravity.png](images/Gravity.png \"Title\")"
            ]
        },
        {
            "cell_type": "code",
            "execution_count": 15,
            "metadata": {},
            "outputs": [
                {
                    "name": "stdout",
                    "output_type": "stream",
                    "text": "The Zen of Python, by Tim Peters\n\nBeautiful is better than ugly.\nExplicit is better than implicit.\nSimple is better than complex.\nComplex is better than complicated.\nFlat is better than nested.\nSparse is better than dense.\nReadability counts.\nSpecial cases aren't special enough to break the rules.\nAlthough practicality beats purity.\nErrors should never pass silently.\nUnless explicitly silenced.\nIn the face of ambiguity, refuse the temptation to guess.\nThere should be one-- and preferably only one --obvious way to do it.\nAlthough that way may not be obvious at first unless you're Dutch.\nNow is better than never.\nAlthough never is often better than *right* now.\nIf the implementation is hard to explain, it's a bad idea.\nIf the implementation is easy to explain, it may be a good idea.\nNamespaces are one honking great idea -- let's do more of those!\n"
                }
            ],
            "source": [
                "import this"
            ]
        },
        {
            "attachments": {},
            "cell_type": "markdown",
            "metadata": {},
            "source": [
                "## Regular Expressions\n",
                "\n",
                "\n",
                "You can find specific patterns or strings in text by using Regular Expressions (or re, regex, regexp): This is a pattern matching mechanism used throughout Computer Science and programming (it's not just specific to Python). \n",
                "\n",
                "A short summary of regular expressions from us can be found [here](references/RegularExpressions.pdf).\n",
                "\n",
                "Some great resources that we recommend, if you are interested in them (could be very useful for a homework problem):\n",
                "- https://docs.python.org/3.3/library/re.html\n",
                "- https://regexone.com\n",
                "- https://docs.python.org/3/howto/regex.html.\n",
                "\n",
                "\n",
                "\n",
                "Specify a specific sequence with the help of regex special characters. Some examples: \n",
                "- ```\\S``` : Matches any character which is not a Unicode whitespace character: spaces, tabs, newlines\n",
                "- ```\\d``` : Matches any Unicode decimal digit, `0`, `1`, ..., `9`\n",
                "- ```*``` : Causes the resulting RE to match 0 or more repetitions of the preceding RE, as many repetitions as are possible.\n",
                "\n",
                "**Let's find all the occurances of 'Marie' in our raw_html:**"
            ]
        },
        {
            "cell_type": "code",
            "execution_count": 17,
            "metadata": {},
            "outputs": [],
            "source": [
                "import re"
            ]
        },
        {
            "cell_type": "code",
            "execution_count": 18,
            "metadata": {},
            "outputs": [],
            "source": [
                "re.findall(r'Marie', raw_html)"
            ]
        },
        {
            "attachments": {},
            "cell_type": "markdown",
            "metadata": {},
            "source": [
                "Note we use an r before the string to get the raw text.  "
            ]
        },
        {
            "attachments": {},
            "cell_type": "markdown",
            "metadata": {},
            "source": [
                "**Using ```\\S``` to match 'Marie' + ' ' + 'any character which is not a Unicode whitespace character':**"
            ]
        },
        {
            "cell_type": "code",
            "execution_count": 19,
            "metadata": {},
            "outputs": [],
            "source": [
                "re.findall(r'Marie \\S',raw_html)"
            ]
        },
        {
            "attachments": {},
            "cell_type": "markdown",
            "metadata": {},
            "source": [
                "**How would we find the lastnames that come after Marie?**\n",
                "\n",
                ""
            ]
        },
        {
            "cell_type": "code",
            "execution_count": 20,
            "metadata": {},
            "outputs": [],
            "source": [
                "# Your code here"
            ]
        },
        {
            "attachments": {},
            "cell_type": "markdown",
            "metadata": {},
            "source": [
                "Hint: The \\w character represents any alpha-numeric character. \\w* is greedy and gets a repeat of the characters until the next bit of whitespace."
            ]
        },
        {
            "attachments": {},
            "cell_type": "markdown",
            "metadata": {},
            "source": [
                "Now, we have all our data in the notebook. Unfortunately, it is the form of one really long string, which is hard to work with directly. This is where BeautifulSoup comes in.  "
            ]
        },
        {
            "attachments": {},
            "cell_type": "markdown",
            "metadata": {},
            "source": [
                "#### This is an example of code that grabs the first title. Regex can quickly become complex, which motivates beautiful soup."
            ]
        },
        {
            "cell_type": "code",
            "execution_count": 21,
            "metadata": {},
            "outputs": [],
            "source": [
                "first_title = re.findall(r'\u003ch3\u003e\u003ca.*\u003e.*\u003c\\/a\u003e\u003c\\/h3\u003e', raw_html)[0]\n",
                "print(first_title)\n",
                "\n",
                "#you can do this via regex, but it gets complicated fast! This motivates Beautiful Soup."
            ]
        },
        {
            "attachments": {},
            "cell_type": "markdown",
            "metadata": {},
            "source": [
                "## Parse the HTML with BeautifulSoup"
            ]
        },
        {
            "attachments": {},
            "cell_type": "markdown",
            "metadata": {},
            "source": [
                "BeautifulSoup works by parsing the raw html text into a tree. Every tag in the raw html becomes a node in the tree. We can then navigate the tree by selecting a node and querying its parent, children, siblings, etc.\n",
                "\n",
                "![HTML Parsed Tree](images/html-dom.png)"
            ]
        },
        {
            "cell_type": "code",
            "execution_count": 0,
            "metadata": {},
            "outputs": [],
            "source": [
                "soup = BeautifulSoup(raw_html, 'html.parser')"
            ]
        },
        {
            "attachments": {},
            "cell_type": "markdown",
            "metadata": {},
            "source": [
                "Key BeautifulSoup functions we’ll be using in this lab:\n",
                "- **`tag.prettify()`**: Returns cleaned-up version of raw HTML, useful for printing\n",
                "- **`tag.select(selector)`**: Return a list of nodes matching a [CSS selector](https://developer.mozilla.org/en-US/docs/Learn/CSS/Introduction_to_CSS/Simple_selectors)\n",
                "- **`tag.select_one(selector)`**: Return the first node matching a CSS selector\n",
                "- **`tag.text/soup.get_text()`**: Returns visible text of a node (e.g.,\"`\u003cp\u003eSome text\u003c/p\u003e`\" -\u003e \"Some text\")\n",
                "- **`tag.contents`**: A list of the immediate children of this node\n",
                "\n",
                "You can also use these functions to find nodes.\n",
                "- **`tag.find_all(tag_name, attrs=attributes_dict)`**: Returns a list of matching nodes\n",
                "- **`tag.find(tag_name, attrs=attributes_dict)`**: Returns first matching node\n",
                "\n",
                "BeautifulSoup is a very powerful library -- much more info here: https://www.crummy.com/software/BeautifulSoup/bs4/doc/"
            ]
        },
        {
            "attachments": {},
            "cell_type": "markdown",
            "metadata": {},
            "source": [
                "### Let's practice some BeautifulSoup commands, "
            ]
        },
        {
            "attachments": {},
            "cell_type": "markdown",
            "metadata": {},
            "source": [
                "**Print a cleaned-up version of the raw HTML** \n",
                "\n",
                "Which function should we use from above?"
            ]
        },
        {
            "cell_type": "code",
            "execution_count": 0,
            "metadata": {},
            "outputs": [],
            "source": [
                "pretty_soup = soup.prettify()\n",
                "print(pretty_soup[:500]) #what about negative indices?"
            ]
        },
        {
            "attachments": {},
            "cell_type": "markdown",
            "metadata": {},
            "source": [
                "**Find the first “title” object** "
            ]
        },
        {
            "cell_type": "code",
            "execution_count": 0,
            "metadata": {},
            "outputs": [],
            "source": [
                "soup.select(\"title\")[:50]"
            ]
        },
        {
            "attachments": {},
            "cell_type": "markdown",
            "metadata": {},
            "source": [
                "**Extract the text of first “heading” object given by $\u003ch3\u003e$** "
            ]
        },
        {
            "cell_type": "code",
            "execution_count": 0,
            "metadata": {},
            "outputs": [],
            "source": [
                "soup.select_one('a h3')"
            ]
        },
        {
            "attachments": {},
            "cell_type": "markdown",
            "metadata": {},
            "source": [
                "## Extracting award data"
            ]
        },
        {
            "attachments": {},
            "cell_type": "markdown",
            "metadata": {},
            "source": [
                "Let's use the structure of the HTML document to extract the data we want.\n",
                "\n",
                "From inspecting the page in DevTools, we found that each award is in a `div` with a `by_year` class. Let's get all of them."
            ]
        },
        {
            "cell_type": "code",
            "execution_count": 26,
            "metadata": {},
            "outputs": [],
            "source": [
                "award_nodes = soup.select('.by_year') #\u003cdiv class =\"by year\"\n",
                "len(award_nodes)\n",
                ""
            ]
        },
        {
            "attachments": {},
            "cell_type": "markdown",
            "metadata": {},
            "source": [
                "Let's pull out an example."
            ]
        },
        {
            "cell_type": "code",
            "execution_count": 27,
            "metadata": {},
            "outputs": [],
            "source": [
                "award_node = award_nodes[200]"
            ]
        },
        {
            "cell_type": "code",
            "execution_count": 0,
            "metadata": {},
            "outputs": [],
            "source": [
                "award_node.prettify()"
            ]
        },
        {
            "attachments": {},
            "cell_type": "markdown",
            "metadata": {},
            "source": [
                "We use the HTML library to render the HTML below"
            ]
        },
        {
            "cell_type": "code",
            "execution_count": 0,
            "metadata": {},
            "outputs": [],
            "source": [
                "HTML(award_node.prettify())"
            ]
        },
        {
            "attachments": {},
            "cell_type": "markdown",
            "metadata": {},
            "source": [
                "#### Let's practice getting data out of a BS node (award_node)"
            ]
        },
        {
            "attachments": {},
            "cell_type": "markdown",
            "metadata": {},
            "source": [
                "\n",
                "### The prize title\n",
                "\n",
                "Check the html from above and note that the prize title is in the h3 tag."
            ]
        },
        {
            "cell_type": "code",
            "execution_count": 29,
            "metadata": {},
            "outputs": [],
            "source": [
                "award_node.select_one('h3').text"
            ]
        },
        {
            "attachments": {},
            "cell_type": "markdown",
            "metadata": {},
            "source": [
                "**How do we separate the year from the selected prize title?**"
            ]
        },
        {
            "cell_type": "code",
            "execution_count": 30,
            "metadata": {},
            "outputs": [],
            "source": [
                "award_node.select_one('h3').text[-4:]"
            ]
        },
        {
            "attachments": {},
            "cell_type": "markdown",
            "metadata": {},
            "source": [
                "**How do we drop the year from the title?**"
            ]
        },
        {
            "cell_type": "code",
            "execution_count": 31,
            "metadata": {},
            "outputs": [],
            "source": [
                "award_node.select_one('h3').text[:-4].strip()"
            ]
        },
        {
            "attachments": {},
            "cell_type": "markdown",
            "metadata": {},
            "source": [
                "Let's put them into functions:"
            ]
        },
        {
            "cell_type": "code",
            "execution_count": 32,
            "metadata": {},
            "outputs": [],
            "source": [
                "# wrap the above code inside a function\n",
                "def get_award_title(award_node):\n",
                "    return award_node.select_one('h3').text[___].strip()\n",
                "\n",
                "def get_award_year(award_node):\n",
                "    return int(award_node.select_one('h3').text[___])"
            ]
        },
        {
            "attachments": {},
            "cell_type": "markdown",
            "metadata": {},
            "source": [
                "**Make a list of titles for all awards**"
            ]
        },
        {
            "cell_type": "code",
            "execution_count": 54,
            "metadata": {},
            "outputs": [],
            "source": [
                "#original code:\n",
                "list_awards = []\n",
                "for award_node in award_nodes:\n",
                "    list_awards.append(get_award_title(___))\n",
                "list_awards[:50]"
            ]
        },
        {
            "attachments": {},
            "cell_type": "markdown",
            "metadata": {},
            "source": [
                "**How can we make this into a oneliner?**\n",
                "\n",
                "We can use *list comprehension*\n",
                "```python\n",
                "l = [f(x) for x in some_list]\n",
                "```\n",
                "\n",
                "which is equivalent to \n",
                "```python\n",
                "l = []\n",
                "for x in some_list:\n",
                "    element = f(x)\n",
                "    l.append(element)\n",
                "```\n",
                "\n",
                "List comprehensions are explained in the slides from us linked above."
            ]
        },
        {
            "cell_type": "code",
            "execution_count": 34,
            "metadata": {},
            "outputs": [],
            "source": [
                "# (TODO) use list comprehension to get a list of titles\n",
                "[get_award_title(___) for award_node in award_nodes ]\n",
                ""
            ]
        },
        {
            "attachments": {},
            "cell_type": "markdown",
            "metadata": {},
            "source": [
                "### The recipients\n",
                "\n",
                "Check the html from above and note that the prize title is in the h6 a selector.\n",
                "\n",
                ""
            ]
        },
        {
            "cell_type": "code",
            "execution_count": 35,
            "metadata": {},
            "outputs": [],
            "source": [
                "award_node.select('h6 a')"
            ]
        },
        {
            "attachments": {},
            "cell_type": "markdown",
            "metadata": {},
            "source": [
                "**How do we handle there being more than one?**"
            ]
        },
        {
            "cell_type": "code",
            "execution_count": 36,
            "metadata": {},
            "outputs": [],
            "source": [
                "[node.text for node in award_node.select('h6 a')]"
            ]
        },
        {
            "attachments": {},
            "cell_type": "markdown",
            "metadata": {},
            "source": [
                "Let's encapsulate this process into a function and make it into a function."
            ]
        },
        {
            "cell_type": "code",
            "execution_count": 37,
            "metadata": {},
            "outputs": [],
            "source": [
                "def get_recipients(award_node):\n",
                "    return [node.text for node in award_node.select('h6 a')]"
            ]
        },
        {
            "attachments": {},
            "cell_type": "markdown",
            "metadata": {},
            "source": [
                "We'll leave them as a list for now, to return to this later.\n",
                "\n",
                "***This is how you would get the links: (Relevant for the homework)***"
            ]
        },
        {
            "cell_type": "code",
            "execution_count": 38,
            "metadata": {},
            "outputs": [],
            "source": [
                "[state_node.get(\"href\") for state_node in award_node.select('h6 a')]"
            ]
        },
        {
            "attachments": {},
            "cell_type": "markdown",
            "metadata": {},
            "source": [
                "### The prize \"motivation\"\n",
                "\n",
                "**How would you get the 'motivation'/reason of the prize from the following ```award_node```?**"
            ]
        },
        {
            "cell_type": "code",
            "execution_count": 39,
            "metadata": {},
            "outputs": [],
            "source": [
                "award_node = award_nodes[200]\n",
                "award_node"
            ]
        },
        {
            "cell_type": "code",
            "execution_count": 40,
            "metadata": {},
            "outputs": [],
            "source": [
                "print(award_node.select('p')[0].text);"
            ]
        },
        {
            "attachments": {},
            "cell_type": "markdown",
            "metadata": {},
            "source": [
                "Putting everything into functions: "
            ]
        },
        {
            "cell_type": "code",
            "execution_count": 41,
            "metadata": {},
            "outputs": [],
            "source": [
                "def get_award_motivation(award_node):\n",
                "    award_node = award_node.select_one('p')\n",
                "    if not award_node: #0, [], None, and {} all default to False in a python conditional statement.\n",
                "        return None\n",
                "    return award_node.text "
            ]
        },
        {
            "attachments": {},
            "cell_type": "markdown",
            "metadata": {},
            "source": [
                "## Let's create a Pandas dataframe\n",
                "\n",
                "Next, we parse the collected data and create a `pandas.DataFrame`. A DataFrame is like a table, where each row corresponds to a data entry and each column corresponds to a feature. Once we have a DataFrame, we can easily export it to our disk in CSV, JSON, or other formats.\n",
                "\n",
                "The easiest way to create a DataFrame is to build a list of dictionaries. Dictionaries are a pre-requisite for this lab. Refer to the slides from us [here](references/Dictionaries.pdf) for a better understanding.\n",
                "\n",
                "Each entry (dict) in the list is a data point, where keys are column names in the table. Let's see it in action."
            ]
        },
        {
            "cell_type": "code",
            "execution_count": 1,
            "metadata": {},
            "outputs": [],
            "source": [
                "awards = []\n",
                "for award_node in soup.select('.by_year'):\n",
                "    recipients = get_recipients(award_node)\n",
                "    \n",
                "    # Initialize the dictionary\n",
                "    award = {} #{key: value}\n",
                "    \n",
                "    # Call `get_award_title` to get the title of award_node\n",
                "    award['title'] = get_award_title(award_node)\n",
                "    # Call `get_award_title` to get the year of award_node\n",
                "    award['year'] = get_award_year(award_node)\n",
                "    # Call `get_recipients` to get the list of recipients of award_node\n",
                "    award['recipients'] = recipients\n",
                "    # Count number of recipients using the built-in `len()` function\n",
                "    award['num_recipients'] = len(recipients)\n",
                "    # (TODO) call `get_award_motivation` to get the motivation of award_node\n",
                "    award['motivation'] = get_award_motivation(award_node)\n",
                "    \n",
                "    awards.append(award)\n",
                "awards[0:2]"
            ]
        },
        {
            "cell_type": "code",
            "execution_count": 2,
            "metadata": {},
            "outputs": [],
            "source": [
                "# (TODO) convert the list of dictionaries to a pandas DataFrame\n",
                "df_awards_raw = pd.DataFrame(awards)\n",
                ""
            ]
        },
        {
            "cell_type": "code",
            "execution_count": 55,
            "metadata": {},
            "outputs": [],
            "source": [
                "df_awards_raw\n",
                ""
            ]
        },
        {
            "attachments": {},
            "cell_type": "markdown",
            "metadata": {},
            "source": [
                "To export the data to a local CSV file, let's used the `.to_csv()` method. After you run the follwing code, you can find a `scraped_awards.csv` in the same directory with this notebook. You can open the notebook using Microsoft Excel or Numbers, but make sure you are using the UTF-8 codec."
            ]
        },
        {
            "cell_type": "code",
            "execution_count": 45,
            "metadata": {},
            "outputs": [],
            "source": [
                "df_awards_raw.to_csv('scraped_awards.csv')\n",
                ""
            ]
        },
        {
            "attachments": {},
            "cell_type": "markdown",
            "metadata": {},
            "source": [
                "### Some quick EDA."
            ]
        },
        {
            "cell_type": "code",
            "execution_count": 46,
            "metadata": {},
            "outputs": [],
            "source": [
                "df_awards_raw.info()\n",
                ""
            ]
        },
        {
            "cell_type": "code",
            "execution_count": 47,
            "metadata": {},
            "outputs": [],
            "source": [
                "df_awards_raw.year.min()\n",
                ""
            ]
        },
        {
            "attachments": {},
            "cell_type": "markdown",
            "metadata": {},
            "source": [
                "**What is going on with the recipients column?**"
            ]
        },
        {
            "cell_type": "code",
            "execution_count": 48,
            "metadata": {},
            "outputs": [],
            "source": [
                "df_awards_raw.head()\n",
                ""
            ]
        },
        {
            "attachments": {},
            "cell_type": "markdown",
            "metadata": {},
            "source": [
                "### Visualizing Number of Recipients by Year\n",
                "\n",
                "Finally, we visualize the number of recipients for each Nobel Prize by year. Don't worry about the syntax for the moment, you'll get used to it in future exercise."
            ]
        },
        {
            "cell_type": "code",
            "execution_count": 49,
            "metadata": {},
            "outputs": [],
            "source": [
                "titles = set(df_awards_raw.title)\n",
                "fig = plt.figure(figsize=(20, 44), dpi=100)\n",
                "axes = fig.subplots(len(titles), 1)\n",
                "\n",
                "for title, ax in zip(titles, axes):\n",
                "    # (TODO) select entries whose titles match `title`\n",
                "    plot_df = df_awards_raw[df_awards_raw.title == title]\n",
                "    # (TODO) plot the selected entries using bar-plot, where x-axis is year and y-axis is number of recipeints\n",
                "    ax.bar(___, ___, color=\"#97CFC4\")\n",
                "    ax.set_title(___)\n",
                "    ax.set_xlabel(___)\n",
                "    ax.set_ylabel(___)\n",
                "    "
            ]
        },
        {
            "cell_type": "code",
            "execution_count": 50,
            "metadata": {},
            "outputs": [],
            "source": [
                "# `counter` is used to save the number of nobel prize winners every year\n",
                "counter = {}\n",
                "for year in range(min(df_awards_raw.year), max(df_awards_raw.year) + 1):\n",
                "    # (TODO) compute total number of recipients that year \n",
                "    count = df_awards_raw[df_awards_raw.year == year].num_recipients.sum()\n",
                "    counter[year] = count\n",
                "\n",
                "fig = plt.figure(figsize=(20, 6), dpi=100)\n",
                "ax = fig.add_subplot(1, 1, 1)\n",
                "# (TODO) make another bar-plot, where x-axis is year and y-axis is total number of recipeints\n",
                "ax.bar(___, ___, color=\"#97CFC4\")\n",
                "ax.set_title('Total Amount of Nobel Prize')\n",
                "ax.set_xlabel('year')\n",
                "ax.set_ylabel('#Recipients');\n",
                ""
            ]
        },
        {
            "attachments": {},
            "cell_type": "markdown",
            "metadata": {},
            "source": [
                "## End of Normal Lab"
            ]
        },
        {
            "attachments": {},
            "cell_type": "markdown",
            "metadata": {},
            "source": [
                "\n",
                "## Optional Further Readings\n",
                "\n",
                "\n",
                "Here are a couple resources that he referenced early in his course that helped solidify my understanding of data science.\n",
                "\n",
                "\u003ca href=\"https://www.tandfonline.com/doi/full/10.1080/10618600.2017.1384734\"\u003e50 Years of Data Science\u003c/a\u003e by Dave Donoho  (2017)\n",
                "\n",
                "\u003ca href=\"https://vita.had.co.nz/papers/tidy-data.pdf\"\u003e Tidy data\u003c/a\u003e by Hadley Wickam (2014)"
            ]
        }
    ]
}
