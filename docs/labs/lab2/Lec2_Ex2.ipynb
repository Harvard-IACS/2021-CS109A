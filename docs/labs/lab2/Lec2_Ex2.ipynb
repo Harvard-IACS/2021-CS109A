{
    "metadata": {
        "kernelspec": {
            "name": "python3",
            "display_name": "Python 3 (ipykernel)",
            "language": "python"
        }
    },
    "nbformat": 4,
    "nbformat_minor": 4,
    "cells": [
        {
            "attachments": {},
            "cell_type": "markdown",
            "metadata": {},
            "source": [
                "# \u003cimg style=\"float: left; padding-right: 10px; width: 45px\" src=\"https://raw.githubusercontent.com/Harvard-IACS/2018-CS109A/master/content/styles/iacs.png\"\u003e CS109A Introduction to PANDAS\n",
                "\n",
                "## Lecture 2, Exercise 2: PANDAS Intro 2\n",
                "\n",
                "\n",
                "**Harvard University**\u003cbr/\u003e\n",
                "**Fall 2021**\u003cbr/\u003e\n",
                "**Instructors**: Pavlos Protopapas and Natesh Pillai\n",
                "\n",
                "---"
            ]
        },
        {
            "attachments": {},
            "cell_type": "markdown",
            "metadata": {},
            "source": [
                "**Exercise 2: PANDAS Intro 2**\n",
                "\n",
                "Let's get some more practice with a few of the core `PANDAS` functions."
            ]
        },
        {
            "cell_type": "code",
            "execution_count": 2,
            "metadata": {},
            "outputs": [],
            "source": [
                "import pandas as pd"
            ]
        },
        {
            "attachments": {},
            "cell_type": "markdown",
            "metadata": {},
            "source": [
                "We'll continue working with StudentsPerformance dataset from Exercise 1."
            ]
        },
        {
            "cell_type": "code",
            "execution_count": 3,
            "metadata": {},
            "outputs": [],
            "source": [
                "# import the CSV file\n",
                "df = pd.read_csv(\"StudentsPerformance.csv\")\n",
                "df.head()"
            ]
        },
        {
            "attachments": {},
            "cell_type": "markdown",
            "metadata": {},
            "source": [
                "### Indexing - iloc and loc\n",
                "\n",
                "It's very important to understand the differences between loc and iloc. Looking at the next cell code one could think that they do the same thing.  \n",
                "(When you query just for one row you obtain an object whose name is the index of the selected row.)"
            ]
        },
        {
            "cell_type": "code",
            "execution_count": 133,
            "metadata": {},
            "outputs": [],
            "source": [
                "df.iloc[10] == df.loc[10]"
            ]
        },
        {
            "cell_type": "code",
            "execution_count": 134,
            "metadata": {},
            "outputs": [],
            "source": [
                "all(df.iloc[10] == df.loc[10])"
            ]
        },
        {
            "attachments": {},
            "cell_type": "markdown",
            "metadata": {},
            "source": [
                "The first time we loaded the CSV into a DataFrame we didn't tell pandas to interpret a specific column as an index, so pandas created an index for us. Whether the ordering imposed on our data by this index should be respected is a matter on which `iloc` and `loc` disagree.\n",
                "\n",
                "**To really learn the difference of `iloc` and `loc` we need to shuffle the rows**\n",
                "\n",
                "To do that we can use the [sample](https://pandas.pydata.org/pandas-docs/stable/reference/api/pandas.DataFrame.sample.html) method to take a new sample of the dataframe original size (frac=1 means that)\n",
                "\n",
                "_Bonus: Stop and consider: what is the purpose of setting a `random_state` when we call them `sample` method?_"
            ]
        },
        {
            "cell_type": "code",
            "execution_count": 135,
            "metadata": {},
            "outputs": [],
            "source": [
                "df = df.sample(frac=1, random_state=109)\n",
                "df"
            ]
        },
        {
            "attachments": {},
            "cell_type": "markdown",
            "metadata": {},
            "source": [
                "Now let's repeat our code from ealier."
            ]
        },
        {
            "cell_type": "code",
            "execution_count": 136,
            "metadata": {
                "scrolled": true
            },
            "outputs": [],
            "source": [
                "df.iloc[10] == df.loc[10]"
            ]
        },
        {
            "cell_type": "code",
            "execution_count": 137,
            "metadata": {},
            "outputs": [],
            "source": [
                "all(df.iloc[10] == df.loc[10])"
            ]
        },
        {
            "attachments": {},
            "cell_type": "markdown",
            "metadata": {},
            "source": [
                "It turns out that `loc` filters by index value (something like `where df.index == value`).\n",
                "\n",
                "That is, `loc`'s results are depend only on the **indices** (which are now scrambled after sampling). The actual positions of elements in the DataFrame are ignored."
            ]
        },
        {
            "cell_type": "code",
            "execution_count": 147,
            "metadata": {},
            "outputs": [],
            "source": [
                "df.loc[10]"
            ]
        },
        {
            "attachments": {},
            "cell_type": "markdown",
            "metadata": {},
            "source": [
                "By contrast, `iloc` filters by row position (something like `where df.index == df.index[value]`)\n",
                "\n",
                "So `iloc`'s results depend on the **actual positions** of elements in a pandas data structure. The indices of these elements are ignored."
            ]
        },
        {
            "attachments": {},
            "cell_type": "markdown",
            "metadata": {},
            "source": [
                "It's this difference that explains counterintuitive results like this:"
            ]
        },
        {
            "cell_type": "code",
            "execution_count": 150,
            "metadata": {},
            "outputs": [],
            "source": [
                "df.index[10]"
            ]
        },
        {
            "attachments": {},
            "cell_type": "markdown",
            "metadata": {},
            "source": [
                "Consider a single row index with `iloc`"
            ]
        },
        {
            "cell_type": "code",
            "execution_count": 146,
            "metadata": {},
            "outputs": [],
            "source": [
                "df.iloc[10]"
            ]
        },
        {
            "attachments": {},
            "cell_type": "markdown",
            "metadata": {},
            "source": [
                "And take note of where you can find the index in output formatted like this.\n",
                "\n",
                "Enough chat. Time for..."
            ]
        },
        {
            "attachments": {},
            "cell_type": "markdown",
            "metadata": {},
            "source": [
                "**Exercise**  \n",
                "\n",
                "In the cell below, fill in the blank so that the row5 variable stores the 5th row of df. To be clear, imagine our DataFrame looked as follows:\n",
                "\n",
                "| Index | Words |\n",
                "|-|-|\n",
                "|0|this|\n",
                "|1|is|\n",
                "|2|not|\n",
                "|3|easy|\n",
                "\n",
                "We'd say the 1st row is the one with *this* word, the 2nd row is the one with *is* word, the 3rd row is the one with *not* word, etc."
            ]
        },
        {
            "cell_type": "code",
            "execution_count": 0,
            "metadata": {},
            "outputs": [],
            "source": [
                "### edTest(test_a) ###\n",
                "row5 = ________\n",
                "row5"
            ]
        },
        {
            "attachments": {},
            "cell_type": "markdown",
            "metadata": {},
            "source": [
                "You can display the first rows to have a better understanding of what you did. Can you find the row you've just selected?"
            ]
        },
        {
            "cell_type": "code",
            "execution_count": 0,
            "metadata": {},
            "outputs": [],
            "source": [
                "df.iloc[:5]"
            ]
        },
        {
            "attachments": {},
            "cell_type": "markdown",
            "metadata": {},
            "source": [
                "Notice how we can use familar [Python slice notation](https://python-reference.readthedocs.io/en/latest/docs/brackets/slicing.html) with `iloc` and `loc`!"
            ]
        },
        {
            "attachments": {},
            "cell_type": "markdown",
            "metadata": {},
            "source": [
                "### Sorting\n",
                "We scrambled out df earlier with `sample`. We should also know how to tidy things up. "
            ]
        },
        {
            "attachments": {},
            "cell_type": "markdown",
            "metadata": {},
            "source": [
                "**Exercise**  \n",
                "In the cell below, fill in the blank so that `sorted_df` now stores `df` after sorting it by the math score column in decreasing order ([HINT](https://pandas.pydata.org/pandas-docs/stable/reference/api/pandas.DataFrame.sort_values.html))"
            ]
        },
        {
            "cell_type": "code",
            "execution_count": 11,
            "metadata": {},
            "outputs": [],
            "source": [
                "### edTest(test_b) ###\n",
                "sorted_df = ________\n",
                "sorted_df"
            ]
        },
        {
            "attachments": {},
            "cell_type": "markdown",
            "metadata": {},
            "source": [
                "**Exercise**  \n",
                "In the cell below, fill in the blank so that `sorted_row5` stores the 5th row of `sorted_df`. To be clear, imagine our sorted DataFrame looked as follows:\n",
                "\n",
                "| Index | Words |\n",
                "|-|-|\n",
                "|3|easy\n",
                "|1|is|\n",
                "|2|not|\n",
                "|0|this|\n",
                "\n",
                "We'd say the 1st row is the one with *easy*, the 2nd row is the one with *is*, the 3rd row is the one with *not*, etc."
            ]
        },
        {
            "cell_type": "code",
            "execution_count": 12,
            "metadata": {},
            "outputs": [],
            "source": [
                "### edTest(test_c) ###\n",
                "sorted_row5 = ________\n",
                "sorted_row5"
            ]
        },
        {
            "attachments": {},
            "cell_type": "markdown",
            "metadata": {},
            "source": [
                "Can you find the row you've just selected?"
            ]
        },
        {
            "cell_type": "code",
            "execution_count": 149,
            "metadata": {},
            "outputs": [],
            "source": [
                "# len('head()') \u003c len('iloc[:5]') :)\n",
                "sorted_df.head()"
            ]
        },
        {
            "attachments": {},
            "cell_type": "markdown",
            "metadata": {},
            "source": [
                "### Column Naming Conventions\n",
                "\n",
                "How you've named your df columns can affect the amount of typing required to manipulate your data, the readability of your code, and even the syntax optons you have. Let's take a look at some best practices for naming columns."
            ]
        },
        {
            "cell_type": "code",
            "execution_count": 10,
            "metadata": {},
            "outputs": [],
            "source": [
                "df"
            ]
        },
        {
            "attachments": {},
            "cell_type": "markdown",
            "metadata": {},
            "source": [
                "We can see that there are columns names whose lengths are not confortable for coding. What we can do to make our life easier:\n",
                "- Try to work with short columns names\n",
                "- Try to avoid characters like spaces that will allow us to use column access without brackets\n",
                "- Try working in only lower or upper case (prefably lower case; there's no need to shout)\n",
                "\n",
                "Our df already conforms to this last suggestion."
            ]
        },
        {
            "attachments": {},
            "cell_type": "markdown",
            "metadata": {},
            "source": [
                "**We'll find that, after some renaming, things should become easier for us, making:**\n",
                "\n",
                "expressions like these ones:\n",
                "```python\n",
                "condition = (df['test preparation course'] != 'completed') \u0026 (df['writing score'] \u003e df['writing score'].median())\n",
                "```\n",
                "to become:\n",
                "```python\n",
                "condition = (df.course != 'completed') \u0026 (df.writing \u003e df.writing.median())\n",
                "```"
            ]
        },
        {
            "attachments": {},
            "cell_type": "markdown",
            "metadata": {},
            "source": [
                "**Exercise**  \n",
                "In the cell below fill in the blank with these goals in mind:\n",
                "- rename column `race/ethnicity` to `race`\n",
                "- rename column `parental level of education` to `peduc`\n",
                "- raname column `test preparation course` to `course`\n",
                "- remove ` score` (included the left space char) from the rest of the columns\n",
                "\n",
                "**HINT1**: Don't by shy, check the [documentation](https://pandas.pydata.org/pandas-docs/stable/reference/api/pandas.DataFrame.rename.html) if you need some help  \n",
                "**HINT2**: in many cases, it's faster to access docstrings using `help` \n",
                "```python\n",
                "help(df.rename)\n",
                "```\n",
                "**HINT3**: TAB autocomplete can be ued to you explore an object's available methods and attributes.\\\n",
                "**HINT4**: Still more exciting, place your cursor after the opening paranthesis of a function call and press SHIFT+TAB once or twice. Instantly, you're presented with a docstring. It's a whole new world! 🌈  "
            ]
        },
        {
            "cell_type": "code",
            "execution_count": 0,
            "metadata": {},
            "outputs": [],
            "source": [
                "### edTest(test_d) ###\n",
                "df = df.rename(columns={____})\n",
                "df"
            ]
        },
        {
            "attachments": {},
            "cell_type": "markdown",
            "metadata": {},
            "source": [
                "### Look for missing values\n",
                "\n",
                "Missing values in our DataFrames can cause many issues. They can cause certain operations and function calls to fail and throw an error. Perhaps worse, this problems can happen 'silently,' affecting our results without us realizing there is a problem. Unless we take precautions of course!\n",
                "\n",
                "The first step is locating missingness. This dataset doesn't have any missing values. So we'll make some ourselves and 'poke a holes' in the Dataframe."
            ]
        },
        {
            "cell_type": "code",
            "execution_count": 19,
            "metadata": {},
            "outputs": [],
            "source": [
                "# 'poking holes' in the data\n",
                "df.iloc[0,5] = None\n",
                "df.iloc[2,2] = None"
            ]
        },
        {
            "attachments": {},
            "cell_type": "markdown",
            "metadata": {},
            "source": [
                "**Exercise**  \n",
                "\n",
                "Fill in the blank to display whether or not entries in the first 5 rows are missing ([HINT](https://pandas.pydata.org/docs/reference/api/pandas.DataFrame.isna.html))"
            ]
        },
        {
            "attachments": {},
            "cell_type": "markdown",
            "metadata": {},
            "source": [
                "**Solution**"
            ]
        },
        {
            "cell_type": "code",
            "execution_count": 0,
            "metadata": {},
            "outputs": [],
            "source": [
                "df.___.___"
            ]
        },
        {
            "attachments": {},
            "cell_type": "markdown",
            "metadata": {},
            "source": [
                "**Exercise**  \n",
                "\n",
                "Fill in the blanks to [sum](https://pandas.pydata.org/docs/reference/api/pandas.DataFrame.sum.html) the total number of missing values in each of the dataset's columns."
            ]
        },
        {
            "cell_type": "code",
            "execution_count": 0,
            "metadata": {},
            "outputs": [],
            "source": [
                "### edTest(test_e) ###\n",
                "resultE = df.___.___\n",
                "display(resultE)"
            ]
        },
        {
            "attachments": {},
            "cell_type": "markdown",
            "metadata": {},
            "source": [
                "Now let's deal with these 'holes' we've just made"
            ]
        },
        {
            "attachments": {},
            "cell_type": "markdown",
            "metadata": {},
            "source": [
                "**Exercise**  \n",
                "Fill the missing `math` entry with that column's [mean](https://pandas.pydata.org/docs/reference/api/pandas.DataFrame.mean.html?highlight=dataframe%20mean#pandas.DataFrame.mean).\n",
                "\n",
                "_Hint: Select subsets of the data frame using a column name or names_\n",
                "\n",
                "**Note:** The blanks here represent just one way of doing this. Don't feel constrain by the blanks here."
            ]
        },
        {
            "attachments": {},
            "cell_type": "markdown",
            "metadata": {},
            "source": [
                "**Solution**"
            ]
        },
        {
            "cell_type": "code",
            "execution_count": 0,
            "metadata": {},
            "outputs": [],
            "source": [
                "df___ = df___.___(df___.___)\n",
                "df.head()"
            ]
        },
        {
            "attachments": {},
            "cell_type": "markdown",
            "metadata": {},
            "source": [
                "**Exercise**  \n",
                "[Drop](https://pandas.pydata.org/pandas-docs/stable/reference/api/pandas.DataFrame.dropna.html?highlight=dropna#pandas.DataFrame.dropna) the row with the missing `peduc` from the DataFrame.\n",
                "\n",
                "_Hint: to make it easier, consider that this is now the only remaining missing value_"
            ]
        },
        {
            "attachments": {},
            "cell_type": "markdown",
            "metadata": {},
            "source": [
                "**Solution**"
            ]
        },
        {
            "cell_type": "code",
            "execution_count": 0,
            "metadata": {},
            "outputs": [],
            "source": [
                "df = df___\n",
                "df.head()"
            ]
        },
        {
            "attachments": {},
            "cell_type": "markdown",
            "metadata": {},
            "source": [
                "### Categorical Columns - nunique() and unique()\n",
                "\n",
                "If some of your data is categorical (e.g., taking on a descredte set of values with an inherent ordering) you'll often what to know exactly how many unique values you're dealing with. `nunique` and `unique` are here to help and can be used on a single column or across multiple columns. \n",
                "Please consider, `unique` will return all unique values. What if you ask for the uniques of a column with 1 million different values? 🤔\n",
                "\n",
                "This particular method should be used wisely."
            ]
        },
        {
            "cell_type": "code",
            "execution_count": 46,
            "metadata": {},
            "outputs": [],
            "source": [
                "df.nunique()"
            ]
        },
        {
            "cell_type": "code",
            "execution_count": 63,
            "metadata": {},
            "outputs": [],
            "source": [
                "df['gender'].unique().tolist()"
            ]
        },
        {
            "cell_type": "code",
            "execution_count": 66,
            "metadata": {},
            "outputs": [],
            "source": [
                "# the line below represents  the usage that should be avoided\n",
                "# df['math'].unique()"
            ]
        },
        {
            "attachments": {},
            "cell_type": "markdown",
            "metadata": {},
            "source": [
                "**Exercise**  \n",
                "\n",
                "Fill in the blanks using `unique()` and `nunique()` to complete the method `print_uniques` to help us to learn more about the categorical variables in our data."
            ]
        },
        {
            "cell_type": "code",
            "execution_count": 0,
            "metadata": {},
            "outputs": [],
            "source": [
                "### edTest(test_f) ###\n",
                "def print_uniques(df, col, limit=10):\n",
                "    \"\"\"Print column's uniques values when the number of column's uniques is lower or equal than limit \"\"\"\n",
                "    n = df[col].______\n",
                "    if n \u003c= limit:\n",
                "        print(f'{col}:', df[col].______.tolist())\n",
                "    else:\n",
                "        print(f'{col}:', f'more than {limit} uniques')\n",
                "\n",
                "for col in df.columns:\n",
                "    print_uniques(df, col)"
            ]
        },
        {
            "attachments": {},
            "cell_type": "markdown",
            "metadata": {},
            "source": [
                "### Descriptive statistics\n",
                "\n",
                "In Pandas, DataFrames have a simple method for displaying summary statistics."
            ]
        },
        {
            "cell_type": "code",
            "execution_count": 0,
            "metadata": {},
            "outputs": [],
            "source": [
                "df.describe()"
            ]
        },
        {
            "attachments": {},
            "cell_type": "markdown",
            "metadata": {},
            "source": [
                "**Exercise**\n",
                "\n",
                "Sometimes we don't want to access all these statistics. In the cell below fill in the blanks to get the mean and the standard deviation of the `writing` and `reading` columns ([HINT](https://pandas.pydata.org/docs/reference/api/pandas.DataFrame.aggregate.html))."
            ]
        },
        {
            "cell_type": "code",
            "execution_count": 0,
            "metadata": {},
            "outputs": [],
            "source": [
                "### edTest(test_g) ###\n",
                "resultG = df[[____]].aggregate([____])\n",
                "display(resultG)"
            ]
        },
        {
            "attachments": {},
            "cell_type": "markdown",
            "metadata": {},
            "source": [
                "Now we can [group](https://pandas.pydata.org/docs/reference/api/pandas.DataFrame.groupby.html?highlight=groupby#pandas.DataFrame.groupby) our dataframe by a specific column(s) value's and `aggregate` the other columns. \n",
                "\n",
                "_Hint: Try using `agg()` as an alternative to spare some typing_"
            ]
        },
        {
            "attachments": {},
            "cell_type": "markdown",
            "metadata": {},
            "source": [
                "**Exercise**\n",
                "\n",
                "Group the dataframe by `peduc` and `gender` while aggregating `math`, `reading`, and `writing` with the mean and `course` with the mode.\n",
                "\n",
                "_Tip: Again, don't feel constained by the blanks. This command may span multiple lines._"
            ]
        },
        {
            "cell_type": "code",
            "execution_count": 33,
            "metadata": {},
            "outputs": [
                {
                    "data": {
                        "text/html": [
                            "\u003cdiv\u003e\n",
                            "\u003cstyle scoped\u003e\n",
                            "    .dataframe tbody tr th:only-of-type {\n",
                            "        vertical-align: middle;\n",
                            "    }\n",
                            "\n",
                            "    .dataframe tbody tr th {\n",
                            "        vertical-align: top;\n",
                            "    }\n",
                            "\n",
                            "    .dataframe thead th {\n",
                            "        text-align: right;\n",
                            "    }\n",
                            "\u003c/style\u003e\n",
                            "\u003ctable border=\"1\" class=\"dataframe\"\u003e\n",
                            "  \u003cthead\u003e\n",
                            "    \u003ctr style=\"text-align: right;\"\u003e\n",
                            "      \u003cth\u003e\u003c/th\u003e\n",
                            "      \u003cth\u003e\u003c/th\u003e\n",
                            "      \u003cth\u003emath\u003c/th\u003e\n",
                            "      \u003cth\u003ereading\u003c/th\u003e\n",
                            "      \u003cth\u003ewriting\u003c/th\u003e\n",
                            "    \u003c/tr\u003e\n",
                            "    \u003ctr\u003e\n",
                            "      \u003cth\u003epeduc\u003c/th\u003e\n",
                            "      \u003cth\u003egender\u003c/th\u003e\n",
                            "      \u003cth\u003e\u003c/th\u003e\n",
                            "      \u003cth\u003e\u003c/th\u003e\n",
                            "      \u003cth\u003e\u003c/th\u003e\n",
                            "    \u003c/tr\u003e\n",
                            "  \u003c/thead\u003e\n",
                            "  \u003ctbody\u003e\n",
                            "    \u003ctr\u003e\n",
                            "      \u003cth rowspan=\"2\" valign=\"top\"\u003eassociate's degree\u003c/th\u003e\n",
                            "      \u003cth\u003efemale\u003c/th\u003e\n",
                            "      \u003ctd\u003e65.250000\u003c/td\u003e\n",
                            "      \u003ctd\u003e74.120690\u003c/td\u003e\n",
                            "      \u003ctd\u003e74.000000\u003c/td\u003e\n",
                            "    \u003c/tr\u003e\n",
                            "    \u003ctr\u003e\n",
                            "      \u003cth\u003emale\u003c/th\u003e\n",
                            "      \u003ctd\u003e70.764151\u003c/td\u003e\n",
                            "      \u003ctd\u003e67.433962\u003c/td\u003e\n",
                            "      \u003ctd\u003e65.405660\u003c/td\u003e\n",
                            "    \u003c/tr\u003e\n",
                            "    \u003ctr\u003e\n",
                            "      \u003cth rowspan=\"2\" valign=\"top\"\u003ebachelor's degree\u003c/th\u003e\n",
                            "      \u003cth\u003efemale\u003c/th\u003e\n",
                            "      \u003ctd\u003e68.349206\u003c/td\u003e\n",
                            "      \u003ctd\u003e77.285714\u003c/td\u003e\n",
                            "      \u003ctd\u003e78.380952\u003c/td\u003e\n",
                            "    \u003c/tr\u003e\n",
                            "    \u003ctr\u003e\n",
                            "      \u003cth\u003emale\u003c/th\u003e\n",
                            "      \u003ctd\u003e70.581818\u003c/td\u003e\n",
                            "      \u003ctd\u003e68.090909\u003c/td\u003e\n",
                            "      \u003ctd\u003e67.654545\u003c/td\u003e\n",
                            "    \u003c/tr\u003e\n",
                            "    \u003ctr\u003e\n",
                            "      \u003cth rowspan=\"2\" valign=\"top\"\u003ehigh school\u003c/th\u003e\n",
                            "      \u003cth\u003efemale\u003c/th\u003e\n",
                            "      \u003ctd\u003e59.322581\u003c/td\u003e\n",
                            "      \u003ctd\u003e68.268817\u003c/td\u003e\n",
                            "      \u003ctd\u003e66.731183\u003c/td\u003e\n",
                            "    \u003c/tr\u003e\n",
                            "    \u003ctr\u003e\n",
                            "      \u003cth\u003emale\u003c/th\u003e\n",
                            "      \u003ctd\u003e64.705882\u003c/td\u003e\n",
                            "      \u003ctd\u003e61.480392\u003c/td\u003e\n",
                            "      \u003ctd\u003e58.539216\u003c/td\u003e\n",
                            "    \u003c/tr\u003e\n",
                            "    \u003ctr\u003e\n",
                            "      \u003cth rowspan=\"2\" valign=\"top\"\u003emaster's degree\u003c/th\u003e\n",
                            "      \u003cth\u003efemale\u003c/th\u003e\n",
                            "      \u003ctd\u003e66.500000\u003c/td\u003e\n",
                            "      \u003ctd\u003e76.805556\u003c/td\u003e\n",
                            "      \u003ctd\u003e77.638889\u003c/td\u003e\n",
                            "    \u003c/tr\u003e\n",
                            "    \u003ctr\u003e\n",
                            "      \u003cth\u003emale\u003c/th\u003e\n",
                            "      \u003ctd\u003e74.826087\u003c/td\u003e\n",
                            "      \u003ctd\u003e73.130435\u003c/td\u003e\n",
                            "      \u003ctd\u003e72.608696\u003c/td\u003e\n",
                            "    \u003c/tr\u003e\n",
                            "    \u003ctr\u003e\n",
                            "      \u003cth rowspan=\"2\" valign=\"top\"\u003esome college\u003c/th\u003e\n",
                            "      \u003cth\u003efemale\u003c/th\u003e\n",
                            "      \u003ctd\u003e65.406780\u003c/td\u003e\n",
                            "      \u003ctd\u003e73.550847\u003c/td\u003e\n",
                            "      \u003ctd\u003e74.050847\u003c/td\u003e\n",
                            "    \u003c/tr\u003e\n",
                            "    \u003ctr\u003e\n",
                            "      \u003cth\u003emale\u003c/th\u003e\n",
                            "      \u003ctd\u003e69.009259\u003c/td\u003e\n",
                            "      \u003ctd\u003e64.990741\u003c/td\u003e\n",
                            "      \u003ctd\u003e63.148148\u003c/td\u003e\n",
                            "    \u003c/tr\u003e\n",
                            "    \u003ctr\u003e\n",
                            "      \u003cth rowspan=\"2\" valign=\"top\"\u003esome high school\u003c/th\u003e\n",
                            "      \u003cth\u003efemale\u003c/th\u003e\n",
                            "      \u003ctd\u003e59.296703\u003c/td\u003e\n",
                            "      \u003ctd\u003e69.109890\u003c/td\u003e\n",
                            "      \u003ctd\u003e68.285714\u003c/td\u003e\n",
                            "    \u003c/tr\u003e\n",
                            "    \u003ctr\u003e\n",
                            "      \u003cth\u003emale\u003c/th\u003e\n",
                            "      \u003ctd\u003e67.955672\u003c/td\u003e\n",
                            "      \u003ctd\u003e64.693182\u003c/td\u003e\n",
                            "      \u003ctd\u003e61.375000\u003c/td\u003e\n",
                            "    \u003c/tr\u003e\n",
                            "  \u003c/tbody\u003e\n",
                            "\u003c/table\u003e\n",
                            "\u003c/div\u003e"
                        ],
                        "text/plain": [
                            "                                math    reading    writing\n",
                            "peduc              gender                                 \n",
                            "associate's degree female  65.250000  74.120690  74.000000\n",
                            "                   male    70.764151  67.433962  65.405660\n",
                            "bachelor's degree  female  68.349206  77.285714  78.380952\n",
                            "                   male    70.581818  68.090909  67.654545\n",
                            "high school        female  59.322581  68.268817  66.731183\n",
                            "                   male    64.705882  61.480392  58.539216\n",
                            "master's degree    female  66.500000  76.805556  77.638889\n",
                            "                   male    74.826087  73.130435  72.608696\n",
                            "some college       female  65.406780  73.550847  74.050847\n",
                            "                   male    69.009259  64.990741  63.148148\n",
                            "some high school   female  59.296703  69.109890  68.285714\n",
                            "                   male    67.955672  64.693182  61.375000"
                        ]
                    },
                    "execution_count": 33,
                    "metadata": {},
                    "output_type": "execute_result"
                }
            ],
            "source": [
                "df.___(_____).___(_________)"
            ]
        },
        {
            "attachments": {},
            "cell_type": "markdown",
            "metadata": {},
            "source": [
                "We would likely want to treat`peduc`as an 'ordinal' rather than a categorical variable as it does have an inherent ordering. Feel free to try using indexing to sort the rows. But after the grouping we now have [multiple indices](https://pandas.pydata.org/docs/reference/api/pandas.MultiIndex.html?highlight=multiindex#pandas.MultiIndex) for each row!\n",
                "\n",
                "There's still more Pandas to discover 🐼"
            ]
        }
    ]
}
