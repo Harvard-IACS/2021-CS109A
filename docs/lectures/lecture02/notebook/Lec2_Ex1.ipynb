{
    "metadata": {
        "kernelspec": {
            "name": "python3",
            "display_name": "Python 3 (ipykernel)",
            "language": "python"
        }
    },
    "nbformat": 4,
    "nbformat_minor": 4,
    "cells": [
        {
            "attachments": {},
            "cell_type": "markdown",
            "metadata": {},
            "source": [
                "# \u003cimg style=\"float: left; padding-right: 10px; width: 45px\" src=\"https://raw.githubusercontent.com/Harvard-IACS/2018-CS109A/master/content/styles/iacs.png\"\u003e CS109a Introduction to Data Science\n",
                "\n",
                "## Lecture 2, Exercise 1: PANDAS Intro\n",
                "\n",
                "\n",
                "**Harvard University**\u003cbr/\u003e\n",
                "**Fall 2021**\u003cbr/\u003e\n",
                "**Instructors**: Pavlos Protopapas and Natesh Pillai\n",
                "\n",
                "---"
            ]
        },
        {
            "attachments": {},
            "cell_type": "markdown",
            "metadata": {},
            "source": [
                "**Exercise 1: PANDAS Intro**\n",
                "\n",
                "As discussed in class, `PANDAS` is Python library that contains highly useful data structures, including DataFrames, which makes Exploratory Data Analysis (EDA) easy. Here, we get practice with some of the elementary functions."
            ]
        },
        {
            "cell_type": "code",
            "execution_count": 1,
            "metadata": {},
            "outputs": [],
            "source": [
                "import pandas as pd"
            ]
        },
        {
            "attachments": {},
            "cell_type": "markdown",
            "metadata": {},
            "source": [
                "For this exercise, we will be working with StudentsPerformance dataset made available through [Kaggle](https://www.kaggle.com/spscientist/students-performance-in-exams). It contains information about the exame score of ([fictional](http://roycekimmons.com/tools/generated_data/exams)) high school students."
            ]
        },
        {
            "cell_type": "code",
            "execution_count": 2,
            "metadata": {},
            "outputs": [],
            "source": [
                "# import the CSV file\n",
                "df = pd.read_csv(\"StudentsPerformance.csv\")"
            ]
        },
        {
            "attachments": {},
            "cell_type": "markdown",
            "metadata": {},
            "source": [
                "# PANDAS Basics 🐼\n",
                "Let's get started with basic functionality of PANDAS!"
            ]
        },
        {
            "attachments": {},
            "cell_type": "markdown",
            "metadata": {},
            "source": [
                "**Exercise**  \n",
                "In the cell below fill in the blank to display general dataframe **info**rmation.\n",
                "\n",
                "_Tip: [The Pandas documention](https://pandas.pydata.org/docs/user_guide/index.html) will be your best friend. But in many cases, a simple tab autocomplete can find what your looking for._"
            ]
        },
        {
            "cell_type": "code",
            "execution_count": 5,
            "metadata": {},
            "outputs": [
                {
                    "name": "stdout",
                    "output_type": "stream",
                    "text": "\u003cclass 'pandas.core.frame.DataFrame'\u003e\nRangeIndex: 1000 entries, 0 to 999\nData columns (total 8 columns):\n #   Column                       Non-Null Count  Dtype \n---  ------                       --------------  ----- \n 0   gender                       1000 non-null   object\n 1   race/ethnicity               1000 non-null   object\n 2   parental level of education  1000 non-null   object\n 3   lunch                        1000 non-null   object\n 4   test preparation course      1000 non-null   object\n 5   math score                   1000 non-null   int64 \n 6   reading score                1000 non-null   int64 \n 7   writing score                1000 non-null   int64 \ndtypes: int64(3), object(5)\nmemory usage: 62.6+ KB\n"
                }
            ],
            "source": [
                "### edTest(test_a) ###\n",
                "df.info()"
            ]
        },
        {
            "attachments": {},
            "cell_type": "markdown",
            "metadata": {},
            "source": [
                "Examine the output carefully. There's a lot in there. Can you interpret each column? What about the details in header footer?"
            ]
        },
        {
            "attachments": {},
            "cell_type": "markdown",
            "metadata": {},
            "source": [
                "**Exercise**  \n",
                "In the cell below, fill in the blank so that the variable `cols` stores the `df`'s column names. **NOTE:** Please keep the type of the data structure as a `\u003cclass 'pandas.core.indexes.base.Index'\u003e`. Do not have to convert this to a list.\\\n",
                "\n",
                "_Tip: Reviewing the [DataFrame](https://pandas.pydata.org/pandas-docs/stable/reference/api/pandas.DataFrame.html?highlight=dataframe#pandas.DataFrame) object itself might help_"
            ]
        },
        {
            "cell_type": "code",
            "execution_count": 6,
            "metadata": {},
            "outputs": [],
            "source": [
                "### edTest(test_b) ###\n",
                "cols = df.columns\n",
                "# Check at least the type is the right one\n",
                "assert type(cols) == pd.core.indexes.base.Index"
            ]
        },
        {
            "attachments": {},
            "cell_type": "markdown",
            "metadata": {},
            "source": [
                "**Exercise**  \n",
                "In the cell below, fill in the blank so that:\n",
                "- `num_cols` stores the number of columns in `df`\\\n",
                "([HINT](https://pandas.pydata.org/pandas-docs/stable/reference/api/pandas.DataFrame.shape.html?highlight=shape#pandas.DataFrame.shape))"
            ]
        },
        {
            "cell_type": "code",
            "execution_count": 7,
            "metadata": {},
            "outputs": [],
            "source": [
                "### edTest(test_c) ###\n",
                "num_rows = df.shape[0]\n",
                "num_cols = df.shape[1]"
            ]
        },
        {
            "attachments": {},
            "cell_type": "markdown",
            "metadata": {},
            "source": [
                "**Exercise**  \n",
                "In the cell below, fill in the blank so that `first_seven` is equal to the first 7 rows. ([HINT](https://pandas.pydata.org/pandas-docs/stable/reference/api/pandas.DataFrame.head.html))"
            ]
        },
        {
            "cell_type": "code",
            "execution_count": 9,
            "metadata": {},
            "outputs": [],
            "source": [
                "### edTest(test_d) ###\n",
                "first_seven = df.head(7)"
            ]
        },
        {
            "attachments": {},
            "cell_type": "markdown",
            "metadata": {},
            "source": [
                "**Exercise**  \n",
                "In the cell below, fill in the blank so that `last_four` is equal to the last 4 rows. ([HINT](https://pandas.pydata.org/pandas-docs/stable/reference/api/pandas.DataFrame.tail.html))"
            ]
        },
        {
            "cell_type": "code",
            "execution_count": 8,
            "metadata": {},
            "outputs": [],
            "source": [
                "### edTest(test_e) ###\n",
                "last_four = df.tail(4)"
            ]
        },
        {
            "attachments": {},
            "cell_type": "markdown",
            "metadata": {},
            "source": [
                "**Exercise**  \n",
                "In the cell below, fill in the blank so that the `unique_parental_education_levels` variable stores a list of the 6 distinct values found within the `parental level of education` column of `df`.\\\n",
                "\n",
                "_Tip: Again, try searching the [documentation](https://pandas.pydata.org/pandas-docs/stable/index.html)_"
            ]
        },
        {
            "cell_type": "code",
            "execution_count": 26,
            "metadata": {},
            "outputs": [
                {
                    "data": {
                        "text/plain": "array([\"bachelor's degree\", 'some college', \"master's degree\",\n       \"associate's degree\", 'high school', 'some high school'],\n      dtype=object)"
                    },
                    "execution_count": 26,
                    "metadata": {},
                    "output_type": "execute_result"
                }
            ],
            "source": [
                "### edTest(test_f) ###\n",
                "unique_parental_education_levels = df['parental level of education'].unique()\n",
                "unique_parental_education_levels"
            ]
        },
        {
            "cell_type": "code",
            "execution_count": 27,
            "metadata": {},
            "outputs": [
                {
                    "name": "stdout",
                    "output_type": "stream",
                    "text": "Are there 6 unique values?: True\n\n[\"bachelor's degree\" 'some college' \"master's degree\" \"associate's degree\"\n 'high school' 'some high school']\n"
                }
            ],
            "source": [
                "# we can check if they are really 6\n",
                "print('Are there 6 unique values?:', len(unique_parental_education_levels) == 6)\n",
                "# we can display them here\n",
                "print()\n",
                "print(unique_parental_education_levels)"
            ]
        },
        {
            "attachments": {},
            "cell_type": "markdown",
            "metadata": {},
            "source": [
                "**Exercise**  \n",
                "In the cell below, fill in the blank so that the `scored_100_at_math` variable stores the **DataFrame row(s)** that correspond to everyone who scored 100 at math.\\\n",
                "\n",
                "_Hint: Think 'indexing.' Specifically, boolean indexing_"
            ]
        },
        {
            "cell_type": "code",
            "execution_count": 13,
            "metadata": {},
            "outputs": [
                {
                    "data": {
                        "text/html": "\u003cdiv\u003e\n\u003cstyle scoped\u003e\n    .dataframe tbody tr th:only-of-type {\n        vertical-align: middle;\n    }\n\n    .dataframe tbody tr th {\n        vertical-align: top;\n    }\n\n    .dataframe thead th {\n        text-align: right;\n    }\n\u003c/style\u003e\n\u003ctable border=\"1\" class=\"dataframe\"\u003e\n  \u003cthead\u003e\n    \u003ctr style=\"text-align: right;\"\u003e\n      \u003cth\u003e\u003c/th\u003e\n      \u003cth\u003egender\u003c/th\u003e\n      \u003cth\u003erace/ethnicity\u003c/th\u003e\n      \u003cth\u003eparental level of education\u003c/th\u003e\n      \u003cth\u003elunch\u003c/th\u003e\n      \u003cth\u003etest preparation course\u003c/th\u003e\n      \u003cth\u003emath score\u003c/th\u003e\n      \u003cth\u003ereading score\u003c/th\u003e\n      \u003cth\u003ewriting score\u003c/th\u003e\n    \u003c/tr\u003e\n  \u003c/thead\u003e\n  \u003ctbody\u003e\n    \u003ctr\u003e\n      \u003cth\u003e149\u003c/th\u003e\n      \u003ctd\u003emale\u003c/td\u003e\n      \u003ctd\u003egroup E\u003c/td\u003e\n      \u003ctd\u003eassociate's degree\u003c/td\u003e\n      \u003ctd\u003efree/reduced\u003c/td\u003e\n      \u003ctd\u003ecompleted\u003c/td\u003e\n      \u003ctd\u003e100\u003c/td\u003e\n      \u003ctd\u003e100\u003c/td\u003e\n      \u003ctd\u003e93\u003c/td\u003e\n    \u003c/tr\u003e\n    \u003ctr\u003e\n      \u003cth\u003e451\u003c/th\u003e\n      \u003ctd\u003efemale\u003c/td\u003e\n      \u003ctd\u003egroup E\u003c/td\u003e\n      \u003ctd\u003esome college\u003c/td\u003e\n      \u003ctd\u003estandard\u003c/td\u003e\n      \u003ctd\u003enone\u003c/td\u003e\n      \u003ctd\u003e100\u003c/td\u003e\n      \u003ctd\u003e92\u003c/td\u003e\n      \u003ctd\u003e97\u003c/td\u003e\n    \u003c/tr\u003e\n    \u003ctr\u003e\n      \u003cth\u003e458\u003c/th\u003e\n      \u003ctd\u003efemale\u003c/td\u003e\n      \u003ctd\u003egroup E\u003c/td\u003e\n      \u003ctd\u003ebachelor's degree\u003c/td\u003e\n      \u003ctd\u003estandard\u003c/td\u003e\n      \u003ctd\u003enone\u003c/td\u003e\n      \u003ctd\u003e100\u003c/td\u003e\n      \u003ctd\u003e100\u003c/td\u003e\n      \u003ctd\u003e100\u003c/td\u003e\n    \u003c/tr\u003e\n    \u003ctr\u003e\n      \u003cth\u003e623\u003c/th\u003e\n      \u003ctd\u003emale\u003c/td\u003e\n      \u003ctd\u003egroup A\u003c/td\u003e\n      \u003ctd\u003esome college\u003c/td\u003e\n      \u003ctd\u003estandard\u003c/td\u003e\n      \u003ctd\u003ecompleted\u003c/td\u003e\n      \u003ctd\u003e100\u003c/td\u003e\n      \u003ctd\u003e96\u003c/td\u003e\n      \u003ctd\u003e86\u003c/td\u003e\n    \u003c/tr\u003e\n    \u003ctr\u003e\n      \u003cth\u003e625\u003c/th\u003e\n      \u003ctd\u003emale\u003c/td\u003e\n      \u003ctd\u003egroup D\u003c/td\u003e\n      \u003ctd\u003esome college\u003c/td\u003e\n      \u003ctd\u003estandard\u003c/td\u003e\n      \u003ctd\u003ecompleted\u003c/td\u003e\n      \u003ctd\u003e100\u003c/td\u003e\n      \u003ctd\u003e97\u003c/td\u003e\n      \u003ctd\u003e99\u003c/td\u003e\n    \u003c/tr\u003e\n    \u003ctr\u003e\n      \u003cth\u003e916\u003c/th\u003e\n      \u003ctd\u003emale\u003c/td\u003e\n      \u003ctd\u003egroup E\u003c/td\u003e\n      \u003ctd\u003ebachelor's degree\u003c/td\u003e\n      \u003ctd\u003estandard\u003c/td\u003e\n      \u003ctd\u003ecompleted\u003c/td\u003e\n      \u003ctd\u003e100\u003c/td\u003e\n      \u003ctd\u003e100\u003c/td\u003e\n      \u003ctd\u003e100\u003c/td\u003e\n    \u003c/tr\u003e\n    \u003ctr\u003e\n      \u003cth\u003e962\u003c/th\u003e\n      \u003ctd\u003efemale\u003c/td\u003e\n      \u003ctd\u003egroup E\u003c/td\u003e\n      \u003ctd\u003eassociate's degree\u003c/td\u003e\n      \u003ctd\u003estandard\u003c/td\u003e\n      \u003ctd\u003enone\u003c/td\u003e\n      \u003ctd\u003e100\u003c/td\u003e\n      \u003ctd\u003e100\u003c/td\u003e\n      \u003ctd\u003e100\u003c/td\u003e\n    \u003c/tr\u003e\n  \u003c/tbody\u003e\n\u003c/table\u003e\n\u003c/div\u003e",
                        "text/plain": "     gender race/ethnicity parental level of education         lunch  \\\n149    male        group E          associate's degree  free/reduced   \n451  female        group E                some college      standard   \n458  female        group E           bachelor's degree      standard   \n623    male        group A                some college      standard   \n625    male        group D                some college      standard   \n916    male        group E           bachelor's degree      standard   \n962  female        group E          associate's degree      standard   \n\n    test preparation course  math score  reading score  writing score  \n149               completed         100            100             93  \n451                    none         100             92             97  \n458                    none         100            100            100  \n623               completed         100             96             86  \n625               completed         100             97             99  \n916               completed         100            100            100  \n962                    none         100            100            100  "
                    },
                    "execution_count": 13,
                    "metadata": {},
                    "output_type": "execute_result"
                }
            ],
            "source": [
                "### edTest(test_g) ###\n",
                "scored_100_at_math = df[df[\"math score\"]==100]\n",
                "scored_100_at_math"
            ]
        },
        {
            "attachments": {},
            "cell_type": "markdown",
            "metadata": {},
            "source": [
                "Some observations about conditions"
            ]
        },
        {
            "cell_type": "code",
            "execution_count": 14,
            "metadata": {},
            "outputs": [
                {
                    "data": {
                        "text/plain": "True"
                    },
                    "execution_count": 14,
                    "metadata": {},
                    "output_type": "execute_result"
                }
            ],
            "source": [
                "# this shows that using the condition with 'loc' is the same as not using 'loc'\n",
                "condition = df['math score'] == 100\n",
                "all(df[condition] == df.loc[condition])"
            ]
        },
        {
            "cell_type": "code",
            "execution_count": 15,
            "metadata": {},
            "outputs": [
                {
                    "data": {
                        "text/plain": "0      False\n1      False\n2      False\n3      False\n4      False\n       ...  \n995    False\n996    False\n997    False\n998    False\n999    False\nName: math score, Length: 1000, dtype: bool"
                    },
                    "execution_count": 15,
                    "metadata": {},
                    "output_type": "execute_result"
                }
            ],
            "source": [
                "# the condition is a boolean series to be used with the whole dataframe\n",
                "# the condition will be used to filter the dataframe to those rows where condition value is True\n",
                "# we can see that condition has as many rows as the original dataframe\n",
                "condition"
            ]
        },
        {
            "attachments": {},
            "cell_type": "markdown",
            "metadata": {},
            "source": [
                "**Exercise**  \n",
                "In the cell below, fill in the blank to display scores' descriptive statistics ([HINT](https://pandas.pydata.org/pandas-docs/stable/reference/api/pandas.DataFrame.describe.html))."
            ]
        },
        {
            "cell_type": "code",
            "execution_count": 16,
            "metadata": {},
            "outputs": [
                {
                    "data": {
                        "text/html": "\u003cdiv\u003e\n\u003cstyle scoped\u003e\n    .dataframe tbody tr th:only-of-type {\n        vertical-align: middle;\n    }\n\n    .dataframe tbody tr th {\n        vertical-align: top;\n    }\n\n    .dataframe thead th {\n        text-align: right;\n    }\n\u003c/style\u003e\n\u003ctable border=\"1\" class=\"dataframe\"\u003e\n  \u003cthead\u003e\n    \u003ctr style=\"text-align: right;\"\u003e\n      \u003cth\u003e\u003c/th\u003e\n      \u003cth\u003emath score\u003c/th\u003e\n      \u003cth\u003ereading score\u003c/th\u003e\n      \u003cth\u003ewriting score\u003c/th\u003e\n    \u003c/tr\u003e\n  \u003c/thead\u003e\n  \u003ctbody\u003e\n    \u003ctr\u003e\n      \u003cth\u003ecount\u003c/th\u003e\n      \u003ctd\u003e1000.00000\u003c/td\u003e\n      \u003ctd\u003e1000.000000\u003c/td\u003e\n      \u003ctd\u003e1000.000000\u003c/td\u003e\n    \u003c/tr\u003e\n    \u003ctr\u003e\n      \u003cth\u003emean\u003c/th\u003e\n      \u003ctd\u003e66.08900\u003c/td\u003e\n      \u003ctd\u003e69.169000\u003c/td\u003e\n      \u003ctd\u003e68.054000\u003c/td\u003e\n    \u003c/tr\u003e\n    \u003ctr\u003e\n      \u003cth\u003estd\u003c/th\u003e\n      \u003ctd\u003e15.16308\u003c/td\u003e\n      \u003ctd\u003e14.600192\u003c/td\u003e\n      \u003ctd\u003e15.195657\u003c/td\u003e\n    \u003c/tr\u003e\n    \u003ctr\u003e\n      \u003cth\u003emin\u003c/th\u003e\n      \u003ctd\u003e0.00000\u003c/td\u003e\n      \u003ctd\u003e17.000000\u003c/td\u003e\n      \u003ctd\u003e10.000000\u003c/td\u003e\n    \u003c/tr\u003e\n    \u003ctr\u003e\n      \u003cth\u003e25%\u003c/th\u003e\n      \u003ctd\u003e57.00000\u003c/td\u003e\n      \u003ctd\u003e59.000000\u003c/td\u003e\n      \u003ctd\u003e57.750000\u003c/td\u003e\n    \u003c/tr\u003e\n    \u003ctr\u003e\n      \u003cth\u003e50%\u003c/th\u003e\n      \u003ctd\u003e66.00000\u003c/td\u003e\n      \u003ctd\u003e70.000000\u003c/td\u003e\n      \u003ctd\u003e69.000000\u003c/td\u003e\n    \u003c/tr\u003e\n    \u003ctr\u003e\n      \u003cth\u003e75%\u003c/th\u003e\n      \u003ctd\u003e77.00000\u003c/td\u003e\n      \u003ctd\u003e79.000000\u003c/td\u003e\n      \u003ctd\u003e79.000000\u003c/td\u003e\n    \u003c/tr\u003e\n    \u003ctr\u003e\n      \u003cth\u003emax\u003c/th\u003e\n      \u003ctd\u003e100.00000\u003c/td\u003e\n      \u003ctd\u003e100.000000\u003c/td\u003e\n      \u003ctd\u003e100.000000\u003c/td\u003e\n    \u003c/tr\u003e\n  \u003c/tbody\u003e\n\u003c/table\u003e\n\u003c/div\u003e",
                        "text/plain": "       math score  reading score  writing score\ncount  1000.00000    1000.000000    1000.000000\nmean     66.08900      69.169000      68.054000\nstd      15.16308      14.600192      15.195657\nmin       0.00000      17.000000      10.000000\n25%      57.00000      59.000000      57.750000\n50%      66.00000      70.000000      69.000000\n75%      77.00000      79.000000      79.000000\nmax     100.00000     100.000000     100.000000"
                    },
                    "execution_count": 16,
                    "metadata": {},
                    "output_type": "execute_result"
                }
            ],
            "source": [
                "### edTest(test_h) ###\n",
                "df.describe()"
            ]
        },
        {
            "attachments": {},
            "cell_type": "markdown",
            "metadata": {},
            "source": [
                "**Exercise**  \n",
                "In the cell below, fill in the blanks so that the `uncompleted_with_good_writing_score` variable stores the **DataFrame rows** that correspond to everyone who hasn't completed the preparation course and there writing score is above the median."
            ]
        },
        {
            "cell_type": "code",
            "execution_count": 25,
            "metadata": {},
            "outputs": [
                {
                    "data": {
                        "text/html": "\u003cdiv\u003e\n\u003cstyle scoped\u003e\n    .dataframe tbody tr th:only-of-type {\n        vertical-align: middle;\n    }\n\n    .dataframe tbody tr th {\n        vertical-align: top;\n    }\n\n    .dataframe thead th {\n        text-align: right;\n    }\n\u003c/style\u003e\n\u003ctable border=\"1\" class=\"dataframe\"\u003e\n  \u003cthead\u003e\n    \u003ctr style=\"text-align: right;\"\u003e\n      \u003cth\u003e\u003c/th\u003e\n      \u003cth\u003egender\u003c/th\u003e\n      \u003cth\u003erace/ethnicity\u003c/th\u003e\n      \u003cth\u003eparental level of education\u003c/th\u003e\n      \u003cth\u003elunch\u003c/th\u003e\n      \u003cth\u003etest preparation course\u003c/th\u003e\n      \u003cth\u003emath score\u003c/th\u003e\n      \u003cth\u003ereading score\u003c/th\u003e\n      \u003cth\u003ewriting score\u003c/th\u003e\n    \u003c/tr\u003e\n  \u003c/thead\u003e\n  \u003ctbody\u003e\n    \u003ctr\u003e\n      \u003cth\u003e0\u003c/th\u003e\n      \u003ctd\u003efemale\u003c/td\u003e\n      \u003ctd\u003egroup B\u003c/td\u003e\n      \u003ctd\u003ebachelor's degree\u003c/td\u003e\n      \u003ctd\u003estandard\u003c/td\u003e\n      \u003ctd\u003enone\u003c/td\u003e\n      \u003ctd\u003e72\u003c/td\u003e\n      \u003ctd\u003e72\u003c/td\u003e\n      \u003ctd\u003e74\u003c/td\u003e\n    \u003c/tr\u003e\n    \u003ctr\u003e\n      \u003cth\u003e2\u003c/th\u003e\n      \u003ctd\u003efemale\u003c/td\u003e\n      \u003ctd\u003egroup B\u003c/td\u003e\n      \u003ctd\u003emaster's degree\u003c/td\u003e\n      \u003ctd\u003estandard\u003c/td\u003e\n      \u003ctd\u003enone\u003c/td\u003e\n      \u003ctd\u003e90\u003c/td\u003e\n      \u003ctd\u003e95\u003c/td\u003e\n      \u003ctd\u003e93\u003c/td\u003e\n    \u003c/tr\u003e\n    \u003ctr\u003e\n      \u003cth\u003e4\u003c/th\u003e\n      \u003ctd\u003emale\u003c/td\u003e\n      \u003ctd\u003egroup C\u003c/td\u003e\n      \u003ctd\u003esome college\u003c/td\u003e\n      \u003ctd\u003estandard\u003c/td\u003e\n      \u003ctd\u003enone\u003c/td\u003e\n      \u003ctd\u003e76\u003c/td\u003e\n      \u003ctd\u003e78\u003c/td\u003e\n      \u003ctd\u003e75\u003c/td\u003e\n    \u003c/tr\u003e\n    \u003ctr\u003e\n      \u003cth\u003e5\u003c/th\u003e\n      \u003ctd\u003efemale\u003c/td\u003e\n      \u003ctd\u003egroup B\u003c/td\u003e\n      \u003ctd\u003eassociate's degree\u003c/td\u003e\n      \u003ctd\u003estandard\u003c/td\u003e\n      \u003ctd\u003enone\u003c/td\u003e\n      \u003ctd\u003e71\u003c/td\u003e\n      \u003ctd\u003e83\u003c/td\u003e\n      \u003ctd\u003e78\u003c/td\u003e\n    \u003c/tr\u003e\n    \u003ctr\u003e\n      \u003cth\u003e12\u003c/th\u003e\n      \u003ctd\u003efemale\u003c/td\u003e\n      \u003ctd\u003egroup B\u003c/td\u003e\n      \u003ctd\u003ehigh school\u003c/td\u003e\n      \u003ctd\u003estandard\u003c/td\u003e\n      \u003ctd\u003enone\u003c/td\u003e\n      \u003ctd\u003e65\u003c/td\u003e\n      \u003ctd\u003e81\u003c/td\u003e\n      \u003ctd\u003e73\u003c/td\u003e\n    \u003c/tr\u003e\n    \u003ctr\u003e\n      \u003cth\u003e...\u003c/th\u003e\n      \u003ctd\u003e...\u003c/td\u003e\n      \u003ctd\u003e...\u003c/td\u003e\n      \u003ctd\u003e...\u003c/td\u003e\n      \u003ctd\u003e...\u003c/td\u003e\n      \u003ctd\u003e...\u003c/td\u003e\n      \u003ctd\u003e...\u003c/td\u003e\n      \u003ctd\u003e...\u003c/td\u003e\n      \u003ctd\u003e...\u003c/td\u003e\n    \u003c/tr\u003e\n    \u003ctr\u003e\n      \u003cth\u003e981\u003c/th\u003e\n      \u003ctd\u003emale\u003c/td\u003e\n      \u003ctd\u003egroup D\u003c/td\u003e\n      \u003ctd\u003esome high school\u003c/td\u003e\n      \u003ctd\u003estandard\u003c/td\u003e\n      \u003ctd\u003enone\u003c/td\u003e\n      \u003ctd\u003e81\u003c/td\u003e\n      \u003ctd\u003e78\u003c/td\u003e\n      \u003ctd\u003e78\u003c/td\u003e\n    \u003c/tr\u003e\n    \u003ctr\u003e\n      \u003cth\u003e984\u003c/th\u003e\n      \u003ctd\u003efemale\u003c/td\u003e\n      \u003ctd\u003egroup C\u003c/td\u003e\n      \u003ctd\u003esome high school\u003c/td\u003e\n      \u003ctd\u003estandard\u003c/td\u003e\n      \u003ctd\u003enone\u003c/td\u003e\n      \u003ctd\u003e74\u003c/td\u003e\n      \u003ctd\u003e75\u003c/td\u003e\n      \u003ctd\u003e82\u003c/td\u003e\n    \u003c/tr\u003e\n    \u003ctr\u003e\n      \u003cth\u003e992\u003c/th\u003e\n      \u003ctd\u003efemale\u003c/td\u003e\n      \u003ctd\u003egroup D\u003c/td\u003e\n      \u003ctd\u003eassociate's degree\u003c/td\u003e\n      \u003ctd\u003efree/reduced\u003c/td\u003e\n      \u003ctd\u003enone\u003c/td\u003e\n      \u003ctd\u003e55\u003c/td\u003e\n      \u003ctd\u003e76\u003c/td\u003e\n      \u003ctd\u003e76\u003c/td\u003e\n    \u003c/tr\u003e\n    \u003ctr\u003e\n      \u003cth\u003e993\u003c/th\u003e\n      \u003ctd\u003efemale\u003c/td\u003e\n      \u003ctd\u003egroup D\u003c/td\u003e\n      \u003ctd\u003ebachelor's degree\u003c/td\u003e\n      \u003ctd\u003efree/reduced\u003c/td\u003e\n      \u003ctd\u003enone\u003c/td\u003e\n      \u003ctd\u003e62\u003c/td\u003e\n      \u003ctd\u003e72\u003c/td\u003e\n      \u003ctd\u003e74\u003c/td\u003e\n    \u003c/tr\u003e\n    \u003ctr\u003e\n      \u003cth\u003e999\u003c/th\u003e\n      \u003ctd\u003efemale\u003c/td\u003e\n      \u003ctd\u003egroup D\u003c/td\u003e\n      \u003ctd\u003esome college\u003c/td\u003e\n      \u003ctd\u003efree/reduced\u003c/td\u003e\n      \u003ctd\u003enone\u003c/td\u003e\n      \u003ctd\u003e77\u003c/td\u003e\n      \u003ctd\u003e86\u003c/td\u003e\n      \u003ctd\u003e86\u003c/td\u003e\n    \u003c/tr\u003e\n  \u003c/tbody\u003e\n\u003c/table\u003e\n\u003cp\u003e251 rows × 8 columns\u003c/p\u003e\n\u003c/div\u003e",
                        "text/plain": "     gender race/ethnicity parental level of education         lunch  \\\n0    female        group B           bachelor's degree      standard   \n2    female        group B             master's degree      standard   \n4      male        group C                some college      standard   \n5    female        group B          associate's degree      standard   \n12   female        group B                 high school      standard   \n..      ...            ...                         ...           ...   \n981    male        group D            some high school      standard   \n984  female        group C            some high school      standard   \n992  female        group D          associate's degree  free/reduced   \n993  female        group D           bachelor's degree  free/reduced   \n999  female        group D                some college  free/reduced   \n\n    test preparation course  math score  reading score  writing score  \n0                      none          72             72             74  \n2                      none          90             95             93  \n4                      none          76             78             75  \n5                      none          71             83             78  \n12                     none          65             81             73  \n..                      ...         ...            ...            ...  \n981                    none          81             78             78  \n984                    none          74             75             82  \n992                    none          55             76             76  \n993                    none          62             72             74  \n999                    none          77             86             86  \n\n[251 rows x 8 columns]"
                    },
                    "execution_count": 25,
                    "metadata": {},
                    "output_type": "execute_result"
                }
            ],
            "source": [
                "### edTest(test_i) ###\n",
                "# not completed preparation course condition\n",
                "cond1 = df['test preparation course'] != 'completed'\n",
                "# writing score above the median\n",
                "cond2 = df['writing score'] \u003e  df['writing score'].median()\n",
                "uncompleted_with_good_writing_score = df.loc[cond1 \u0026 cond2]\n",
                "uncompleted_with_good_writing_score"
            ]
        },
        {
            "attachments": {},
            "cell_type": "markdown",
            "metadata": {},
            "source": [
                "Obvervation: the '\u0026' operator differs from the 'and' operator"
            ]
        },
        {
            "cell_type": "code",
            "execution_count": 0,
            "metadata": {},
            "outputs": [],
            "source": [
                ""
            ]
        }
    ]
}
