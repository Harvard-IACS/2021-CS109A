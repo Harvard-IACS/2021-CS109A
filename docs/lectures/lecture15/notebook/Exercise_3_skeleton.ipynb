{
 "cells": [
  {
   "cell_type": "markdown",
   "metadata": {},
   "source": [
    "## Title :\n",
    "Exercise: ROC & AUC\n",
    "\n",
    "## Description :\n",
    "In this exercise, we will look at ways to evaluate our classifiers across all thresholds, rather than just one.\n",
    "\n",
    "Investigate your options in <a href=\"https://scikit-learn.org/stable/modules/classes.html#sklearn-metrics-metrics\" target=\"_blank\">sklearn.metrics</a> for filling in the blanks."
   ]
  },
  {
   "cell_type": "code",
   "execution_count": 0,
   "metadata": {},
   "outputs": [],
   "source": [
    "import pandas as pd\n",
    "import numpy as np\n",
    "import sklearn as sk\n",
    "import matplotlib.pyplot as plt\n",
    "%matplotlib inline\n",
    "\n",
    "from sklearn.linear_model import LogisticRegression\n",
    "from sklearn import metrics\n",
    "from sklearn.preprocessing import PolynomialFeatures\n",
    "\n",
    "from sklearn.model_selection import train_test_split"
   ]
  },
  {
   "cell_type": "code",
   "execution_count": 0,
   "metadata": {},
   "outputs": [],
   "source": [
    "# read the data\n",
    "heart = pd.read_csv('Heart.csv')\n",
    "\n",
    "# Force the response into a binary indicator:\n",
    "heart['AHD'] = 1*(heart['AHD'] == \"Yes\")\n",
    "\n",
    "heart_train, heart_test = train_test_split(heart, test_size=0.3, random_state = 109)"
   ]
  },
  {
   "cell_type": "code",
   "execution_count": 0,
   "metadata": {},
   "outputs": [],
   "source": [
    "# Train two logistic regression models, one with l2 penalty and the other one with no penalty\n",
    "degree = 3\n",
    "predictors = ['Age','Sex','MaxHR','RestBP','Chol']\n",
    "\n",
    "X_train = PolynomialFeatures(degree=degree,include_bias=False).fit_transform(heart_train[predictors])\n",
    "y_train = heart_train['AHD']\n",
    "\n",
    "X_test = PolynomialFeatures(degree=degree,include_bias=False).fit_transform(heart_test[predictors])\n",
    "y_test = heart_test['AHD']\n",
    "\n",
    "\n",
    "logit = LogisticRegression(penalty='none', max_iter = 10000).fit(X_train, y_train)\n",
    "logit_ridge = LogisticRegression(C=0.001, penalty='l2',solver='lbfgs', max_iter = 10000).fit(X_train, y_train)"
   ]
  },
  {
   "cell_type": "code",
   "execution_count": 0,
   "metadata": {},
   "outputs": [],
   "source": [
    "# Predict the probabilities, and then predict the labels based on threshold = 0.5\n",
    "yhat_logit = logit.predict_proba(X_test)[:,1]\n",
    "yhat_logit_ridge = logit_ridge.predict_proba(X_test)[:,1]\n",
    "\n",
    "threshold = 0.5\n",
    "\n",
    "# Print the confusion matrices\n",
    "print('The confusion matrix in test for logit when cut-off is',threshold, ': \\n',\n",
    "      sk.metrics.___(y_test, yhat_logit>threshold))\n",
    "print('The confusion matrix in test for logit_ridge when cut-off is',threshold, ': \\n',\n",
    "      sk.metrics.___(y_test, yhat_logit_ridge>threshold))"
   ]
  },
  {
   "cell_type": "code",
   "execution_count": 0,
   "metadata": {},
   "outputs": [],
   "source": [
    "### edTest(test_roc) ###\n",
    "# Plot the ROC curve\n",
    "yhat_logit= logit.predict_proba(X_test)[:,1]\n",
    "yhat_logit_ridge= logit_ridge.predict_proba(X_test)[:,1]\n",
    "\n",
    "fpr, tpr, thresholds = metrics.___(y_test, yhat_logit)\n",
    "fpr_ridge, tpr_ridge, thresholds_ridge = metrics.___(y_test, yhat_logit_ridge)\n",
    "\n",
    "x=np.arange(0,100)/100\n",
    "plt.plot(x,x,'--',color=\"gray\",alpha=0.3)\n",
    "plt.plot(fpr,tpr,label=\"logit\")\n",
    "plt.plot(fpr_ridge,tpr_ridge,label=\"logit_ridge\")\n",
    "plt.ylabel(\"True Positive Rate\")\n",
    "plt.xlabel(\"False Positive Rate\")\n",
    "plt.title(\"ROC Curve for Predicting AHD in a Logistic Regression Model\")\n",
    "plt.legend()\n",
    "plt.show()"
   ]
  },
  {
   "cell_type": "code",
   "execution_count": 0,
   "metadata": {},
   "outputs": [],
   "source": [
    "### edTest(test_auc) ###\n",
    "# print the AUC scores\n",
    "auc_no_reg = metrics.___(fpr,tpr)\n",
    "auc_ridge = metrics.___(fpr_ridge,tpr_ridge)\n",
    "print(auc_no_reg)\n",
    "print(auc_ridge)"
   ]
  }
 ],
 "metadata": {
  "kernelspec": {
   "display_name": "Python 3",
   "language": "python",
   "name": "python3"
  },
  "language_info": {
   "codemirror_mode": {
    "name": "ipython",
    "version": 3
   },
   "file_extension": ".py",
   "mimetype": "text/x-python",
   "name": "python",
   "nbconvert_exporter": "python",
   "pygments_lexer": "ipython3",
   "version": "3.8.5"
  }
 },
 "nbformat": 4,
 "nbformat_minor": 1
}
