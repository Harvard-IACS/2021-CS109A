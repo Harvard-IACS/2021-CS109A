{
 "cells": [
  {
   "cell_type": "markdown",
   "metadata": {},
   "source": [
    "## Title :\n",
    "Regression with Bagging\n",
    "\n",
    "## Description :\n",
    "The aim of this exercise is to understand regression using Bagging. \n",
    "\n",
    "<img src=\"../fig/fig3.png\" style=\"width: 500px;\">\n",
    "\n",
    "## Instructions:\n",
    "\n",
    "- Read the dataset `airquality.csv` as a Pandas dataframe.\n",
    "- Take a quick look at the dataset.\n",
    "- Split the data into train and test sets.\n",
    "- Specify the number of bootstraps as 30 and a maximum depth of 3.\n",
    "- Define a Bagging Regression model that uses Decision Tree as its base estimator.\n",
    "- Fit the model on the train data.\n",
    "- Use the helper code to predict using the mean model and individual estimators. The plot will look similar to the one given above.\n",
    "- Predict on the test data using the first estimator and the mean model.\n",
    "- Compute and display the test MSEs.\n",
    "\n",
    "## Hints: \n",
    "\n",
    "<a href=\"https://scikit-learn.org/stable/modules/generated/sklearn.model_selection.train_test_split.html\" target=\"_blank\">sklearn.train_test_split()</a>\n",
    "Split arrays or matrices into random train and test subsets.\n",
    "\n",
    "<a href=\"https://scikit-learn.org/stable/modules/generated/sklearn.ensemble.BaggingRegressor.html\" target=\"_blank\">BaggingRegressor()</a>\n",
    "Returns a Bagging regressor instance.\n",
    "\n",
    "<a href=\"https://scikit-learn.org/stable/modules/generated/sklearn.tree.DecisionTreeRegressor.html\" target=\"_blank\">DecisionTreeRegressor()</a>\n",
    "A decision tree regressor.\n",
    "\n",
    "<a href=\"https://scikit-learn.org/stable/modules/generated/sklearn.tree.DecisionTreeRegressor.html#sklearn.tree.DecisionTreeRegressor.fit\" target=\"_blank\">DecisionTreeRegressor.fit()</a>\n",
    "Build a decision tree regressor from the training set (X, y).\n",
    "\n",
    "<a href=\"https://scikit-learn.org/stable/modules/generated/sklearn.tree.DecisionTreeRegressor.html#sklearn.tree.DecisionTreeRegressor.predict\" target=\"_blank\">DecisionTreeRegressor.predict()</a>\n",
    "Build a decision tree regressor from the training set (X, y).\n",
    "\n",
    "<a href=\"https://scikit-learn.org/stable/modules/generated/sklearn.tree.DecisionTreeRegressor.html\" target=\"_blank\">DecisionTreeRegressor().estimators_ </a>\n",
    "A list of estimators. Use this to access any of the estimators. \n",
    "\n",
    "<a href=\"https://scikit-learn.org/stable/modules/generated/sklearn.metrics.mean_squared_error.html\" target=\"_blank\">sklearn.mean_squared_error()</a>\n",
    "Mean squared error regression loss."
   ]
  },
  {
   "cell_type": "code",
   "execution_count": 1,
   "metadata": {},
   "outputs": [],
   "source": [
    "# Import necessary libraries\n",
    "import itertools\n",
    "import numpy as np\n",
    "import pandas as pd \n",
    "from numpy import std\n",
    "from numpy import mean\n",
    "import matplotlib.pyplot as plt\n",
    "from sklearn.datasets import make_regression\n",
    "from sklearn.ensemble import BaggingRegressor\n",
    "from sklearn.tree import DecisionTreeRegressor\n",
    "from sklearn.metrics import mean_squared_error\n",
    "from sklearn.model_selection import train_test_split\n",
    "%matplotlib inline\n"
   ]
  },
  {
   "cell_type": "code",
   "execution_count": 3,
   "metadata": {},
   "outputs": [],
   "source": [
    "# Read the dataset\n",
    "df = pd.read_csv(\"airquality.csv\",index_col=0)\n",
    "\n",
    "# Take a quick look at the data\n",
    "df.head(10)\n"
   ]
  },
  {
   "cell_type": "code",
   "execution_count": 12,
   "metadata": {},
   "outputs": [],
   "source": [
    "# Use the column Ozone to drop any NaNs from the dataframe\n",
    "df = df[df.Ozone.notna()]\n"
   ]
  },
  {
   "cell_type": "code",
   "execution_count": 17,
   "metadata": {},
   "outputs": [],
   "source": [
    "# Assign the values of Ozon column as the predictor variable\n",
    "x = df[['Ozone']].values\n",
    "\n",
    "# Use temperature as the response data\n",
    "y = df['Temp']\n"
   ]
  },
  {
   "cell_type": "code",
   "execution_count": 20,
   "metadata": {},
   "outputs": [],
   "source": [
    "# Split the data into train and test sets with train size as 0.8 \n",
    "# and set random_state as 102\n",
    "x_train, x_test, y_train, y_test = train_test_split(x, y, train_size=0.8, random_state=102)\n"
   ]
  },
  {
   "cell_type": "markdown",
   "metadata": {},
   "source": [
    "### Bagging Regressor"
   ]
  },
  {
   "cell_type": "code",
   "execution_count": 0,
   "metadata": {},
   "outputs": [],
   "source": [
    "# Specify the number of bootstraps as 30\n",
    "num_bootstraps = 30\n",
    "\n",
    "# Specify the maximum depth of the decision tree as 3\n",
    "max_depth = 3\n",
    "\n",
    "# Define the Bagging Regressor Model\n",
    "# Use Decision Tree as your base estimator with depth as mentioned in max_depth\n",
    "# Initialise number of estimators using the num_bootstraps value\n",
    "model = ___\n",
    "                        \n",
    "\n",
    "# Fit the model on the train data\n",
    "___\n"
   ]
  },
  {
   "cell_type": "code",
   "execution_count": 24,
   "metadata": {},
   "outputs": [],
   "source": [
    "# Helper code to plot the predictions of individual estimators \n",
    "plt.figure(figsize=(10,8))\n",
    "\n",
    "xrange = np.linspace(x.min(),x.max(),80).reshape(-1,1)\n",
    "plt.plot(x_train,y_train,'o',color='#EFAEA4', markersize=6, label=\"Train Data\")\n",
    "plt.plot(x_test,y_test,'o',color='#F6345E', markersize=6, label=\"Test Data\")\n",
    "\n",
    "plt.xlim()\n",
    "for i in model.estimators_:\n",
    "    y_pred1 = i.predict(xrange)\n",
    "    plt.plot(xrange,y_pred1,alpha=0.5,linewidth=0.5,color = '#ABCCE3')\n",
    "plt.plot(xrange,y_pred1,alpha=0.6,linewidth=1,color = '#ABCCE3',label=\"Prediction of Individual Estimators\")\n",
    "\n",
    "\n",
    "y_pred = model.predict(xrange)\n",
    "plt.plot(xrange,y_pred,alpha=0.7,linewidth=3,color='#50AEA4', label='Model Prediction')\n",
    "plt.xlabel(\"Ozone\", fontsize=16)\n",
    "plt.ylabel(\"Temperature\", fontsize=16)\n",
    "plt.xticks(fontsize=12)\n",
    "plt.yticks(fontsize=12)\n",
    "plt.legend(loc='best',fontsize=12)\n",
    "plt.show();\n"
   ]
  },
  {
   "cell_type": "code",
   "execution_count": 25,
   "metadata": {},
   "outputs": [],
   "source": [
    "# Compute the test MSE of the prediction of every individual estimator\n",
    "y_pred1 = ___\n",
    "\n",
    "# Print the test MSE \n",
    "print(\"The test MSE of one estimator in the model is\", round(mean_squared_error(y_test,y_pred1),2))\n"
   ]
  },
  {
   "cell_type": "code",
   "execution_count": 0,
   "metadata": {},
   "outputs": [],
   "source": [
    "### edTest(test_mse) ###\n",
    "# Compute the test MSE of the model prediction\n",
    "y_pred = ___\n",
    "\n",
    "# Print the test MSE \n",
    "print(\"The test MSE of the model is\",round(mean_squared_error(y_test,y_pred),2))\n"
   ]
  }
 ],
 "metadata": {
  "kernelspec": {
   "display_name": "Python 3",
   "language": "python",
   "name": "python3"
  },
  "language_info": {
   "codemirror_mode": {
    "name": "ipython",
    "version": 3
   },
   "file_extension": ".py",
   "mimetype": "text/x-python",
   "name": "python",
   "nbconvert_exporter": "python",
   "pygments_lexer": "ipython3",
   "version": "3.8.5"
  }
 },
 "nbformat": 4,
 "nbformat_minor": 4
}
