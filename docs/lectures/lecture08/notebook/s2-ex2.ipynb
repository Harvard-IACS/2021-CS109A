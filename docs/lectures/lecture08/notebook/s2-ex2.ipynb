{
 "cells": [
  {
   "cell_type": "markdown",
   "metadata": {},
   "source": [
    "## Title :\n",
    "Exercise: Beta Values for Data using Bootstrapping\n",
    "\n",
    "## Description :\n",
    "Solve the previous exercise by building your own bootstrap function.\n",
    "\n",
    "## Data Description:\n",
    "\n",
    "## Instructions:\n",
    "\n",
    "- Define a function `bootstrap` that takes a dataframe as the input. Use NumPy's `random.randint()` function to generate random integers in the range of the length of the dataset. These integers will be used as the indices to access the rows of the dataset.\n",
    "- Similar to the previous exercise, compute the $\\beta_0$ and $\\beta_1$ values for each instance of the dataframe.\n",
    "- Plot the $\\beta_0$, $\\beta_1$ histograms.\n",
    "\n",
    "## Hints: \n",
    "To compute the beta values use the following equations:\n",
    "\n",
    "- $\\beta_{0}=\\bar{y}-\\left(b_{1} * \\bar{x}\\right)$\n",
    "- $\\beta_{1}=\\frac{\\sum(x-\\bar{x}) *(y-\\bar{y})}{\\sum(x-\\bar{x})^{2}}$\n",
    "\n",
    "where $\\bar{x}$ is the mean of $x$ and $\\bar{y}$ is the mean of $y$\n",
    "\n",
    "<a href=\"https://docs.scipy.org/doc/numpy-1.15.0/reference/generated/numpy.random.randint.html\" target=\"_blank\">np.random.randint()</a>\n",
    "Returns list of integers as per mentioned size \n",
    "\n",
    "<a href=\"https://numpy.org/doc/stable/reference/generated/numpy.dot.html\" target=\"_blank\">np.dot()</a>\n",
    "Computes the dot product of two arrays\n",
    "\n",
    "<a href=\"https://pandas.pydata.org/pandas-docs/stable/reference/api/pandas.DataFrame.iloc.html\" target=\"_blank\">df.iloc[]</a>\n",
    "Purely integer-location based indexing for selection by position\n",
    "\n",
    "<a href=\"https://matplotlib.org/3.2.2/api/_as_gen/matplotlib.axes.Axes.hist.html\" target=\"_blank\">ax.hist()</a>\n",
    "Plots a histogram\n",
    "\n",
    "<a href=\"https://matplotlib.org/3.1.1/api/_as_gen/matplotlib.axes.Axes.set_xlabel.html\" target=\"_blank\">ax.set_xlabel()</a>\n",
    "Sets label for x-axthe is\n",
    "\n",
    "<a href=\"https://matplotlib.org/3.1.1/api/_as_gen/matplotlib.axes.Axes.set_ylabel.html\" target=\"_blank\">ax.set_ylabel()</a>\n",
    "Sets label for the y-axis\n",
    "\n",
    "**Note:** This exercise is auto-graded and you can try multiple attempts. "
   ]
  },
  {
   "cell_type": "code",
   "execution_count": 1,
   "metadata": {},
   "outputs": [],
   "source": [
    "# Import necessary libraries\n",
    "import pandas as pd\n",
    "import numpy as np\n",
    "import matplotlib.pyplot as plt\n",
    "from randomuniverse import RandomUniverse\n",
    "%matplotlib inline\n"
   ]
  },
  {
   "cell_type": "code",
   "execution_count": 2,
   "metadata": {},
   "outputs": [
    {
     "data": {
      "text/html": [
       "<div>\n",
       "<style scoped>\n",
       "    .dataframe tbody tr th:only-of-type {\n",
       "        vertical-align: middle;\n",
       "    }\n",
       "\n",
       "    .dataframe tbody tr th {\n",
       "        vertical-align: top;\n",
       "    }\n",
       "\n",
       "    .dataframe thead th {\n",
       "        text-align: right;\n",
       "    }\n",
       "</style>\n",
       "<table border=\"1\" class=\"dataframe\">\n",
       "  <thead>\n",
       "    <tr style=\"text-align: right;\">\n",
       "      <th></th>\n",
       "      <th>tv</th>\n",
       "      <th>sales</th>\n",
       "    </tr>\n",
       "  </thead>\n",
       "  <tbody>\n",
       "    <tr>\n",
       "      <th>0</th>\n",
       "      <td>230.1</td>\n",
       "      <td>465.26</td>\n",
       "    </tr>\n",
       "    <tr>\n",
       "      <th>1</th>\n",
       "      <td>44.5</td>\n",
       "      <td>218.95</td>\n",
       "    </tr>\n",
       "    <tr>\n",
       "      <th>2</th>\n",
       "      <td>17.2</td>\n",
       "      <td>195.79</td>\n",
       "    </tr>\n",
       "    <tr>\n",
       "      <th>3</th>\n",
       "      <td>151.5</td>\n",
       "      <td>389.47</td>\n",
       "    </tr>\n",
       "    <tr>\n",
       "      <th>4</th>\n",
       "      <td>180.8</td>\n",
       "      <td>271.58</td>\n",
       "    </tr>\n",
       "  </tbody>\n",
       "</table>\n",
       "</div>"
      ],
      "text/plain": [
       "      tv   sales\n",
       "0  230.1  465.26\n",
       "1   44.5  218.95\n",
       "2   17.2  195.79\n",
       "3  151.5  389.47\n",
       "4  180.8  271.58"
      ]
     },
     "execution_count": 2,
     "metadata": {},
     "output_type": "execute_result"
    }
   ],
   "source": [
    "# Read the file \"Advertising_csv\"\n",
    "df = pd.read_csv('Advertising_adj.csv')\n",
    "\n",
    "# Take a quick look at the data\n",
    "df.head()\n"
   ]
  },
  {
   "cell_type": "code",
   "execution_count": 4,
   "metadata": {},
   "outputs": [],
   "source": [
    "# Define a bootstrap function, which takes as input a dataframe \n",
    "# It must output a bootstrapped version of the input dataframe\n",
    "def bootstrap(df):\n",
    "    selectionIndex = np.random.randint(0, df.shape[0], size = df.__len__())\n",
    "    new_df = df.iloc[selectionIndex]\n",
    "    return new_df\n"
   ]
  },
  {
   "cell_type": "markdown",
   "metadata": {},
   "source": [
    "#### **Alternate approach to $\\beta$ computation**\n",
    "<img src=\"linear_algebra.jpeg\" alt=\"Model Input\" style=\"width:700px\">\n",
    "\n",
    "\n"
   ]
  },
  {
   "cell_type": "code",
   "execution_count": 18,
   "metadata": {},
   "outputs": [],
   "source": [
    "# Initialize two empty lists to store the beta values\n",
    "beta0_list, beta1_list = [],[]\n",
    "\n",
    "# Choose the number of \"parallel\" Universes to generate the new dataset\n",
    "number_of_bootstraps = 1000\n",
    "\n",
    "# Loop through the number of bootstraps\n",
    "for i in range(number_of_bootstraps):\n",
    "\n",
    "    # Call the bootstrap function to get a bootstrapped version of the data\n",
    "    df_new = bootstrap(df)\n",
    "\n",
    "    # Find the mean of the predictor values i.e. tv\n",
    "    xmean = df_new.tv.mean()\n",
    "\n",
    "    # Find the mean of the response values i.e. sales\n",
    "    ymean = df_new.sales.mean()\n",
    "\n",
    "    #'X' is the predictor variable given by df_new.tv values \n",
    "    X = df_new.tv\n",
    "    \n",
    "    #'y' is the reponse variable given by df_new.sales values\n",
    "    y = df_new.sales\n",
    "    \n",
    "    # Compute the analytical values of beta0 and beta1 using the \n",
    "    # equation given in the hints\n",
    "    beta1 = (((df_new.tv - xmean)*(df_new.sales - ymean)).sum())/(((df_new.tv - xmean)**2).sum())\n",
    "    beta0 = ymean - beta1*xmean\n",
    "\n",
    "    # Append the calculated values of beta1 and beta0 to the appropriate lists\n",
    "    beta0_list.append(beta1)\n",
    "    beta1_list.append(beta0)\n"
   ]
  },
  {
   "cell_type": "code",
   "execution_count": 19,
   "metadata": {},
   "outputs": [],
   "source": [
    "### edTest(test_beta) ###\n",
    "\n",
    "# Compute the mean of the beta values\n",
    "beta0_mean = np.mean(beta0_list)\n",
    "beta1_mean = np.mean(beta1_list)\n"
   ]
  },
  {
   "cell_type": "code",
   "execution_count": 20,
   "metadata": {},
   "outputs": [
    {
     "data": {
      "image/png": "[encoded data removed]",
      "text/plain": [
       "<Figure size 1296x576 with 2 Axes>"
      ]
     },
     "metadata": {
      "needs_background": "light"
     },
     "output_type": "display_data"
    }
   ],
   "source": [
    "# Plot histograms of beta_0 and beta_1 using lists created above \n",
    "\n",
    "fig, ax = plt.subplots(1,2, figsize=(18,8))\n",
    "ax[0].hist(beta0_list)\n",
    "ax[1].hist(beta1_list)\n",
    "ax[0].set_xlabel('beta 0')\n",
    "ax[1].set_xlabel('beta 1')\n",
    "ax[0].set_ylabel('Frequency')\n",
    "plt.show();\n"
   ]
  },
  {
   "cell_type": "markdown",
   "metadata": {},
   "source": [
    "### Compare the plots with the results from the RandomUniverse() function"
   ]
  },
  {
   "cell_type": "code",
   "execution_count": 21,
   "metadata": {},
   "outputs": [],
   "source": [
    "# Helper code to visualise the similarity between the bootstrap\n",
    "# function here & the RandomUniverse() function from last exercise\n",
    "beta0_randUni, beta1_randUni = [],[]\n",
    "\n",
    "parallelUniverses = 1000\n",
    "\n",
    "for i in range(parallelUniverses):\n",
    "    df_new = RandomUniverse(df)\n",
    "    \n",
    "    xmean = df_new.tv.mean()\n",
    "    ymean = df_new.sales.mean()\n",
    "\n",
    "    # Using linear algebra result as discussed in lecture\n",
    "    beta1 = (((df_new.tv - xmean)*(df_new.sales - ymean)).sum())/(((df_new.tv - xmean)**2).sum())\n",
    "    beta0 = ymean - beta1*xmean\n",
    "\n",
    "    beta0_randUni.append(beta0)\n",
    "    beta1_randUni.append(beta1)\n"
   ]
  },
  {
   "cell_type": "code",
   "execution_count": 22,
   "metadata": {},
   "outputs": [],
   "source": [
    "# Helper code to plot the bootstrapped beta values & the ones from random universe\n",
    "def plotmulti(list1, list2):\n",
    "    fig, axes = plt.subplots(1,2, figsize = (10,4), sharey = 'row')\n",
    "    axes[0].hist(list1);\n",
    "    axes[0].set_xlabel('Beta Distribution')\n",
    "    axes[0].set_ylabel('Frequency')\n",
    "    axes[0].set_title('Bootstrap')\n",
    "    axes[1].hist(list2);\n",
    "    axes[1].set_xlabel('Beta Distribution')\n",
    "    axes[1].set_title('Random Universe')\n",
    "    plt.show();\n"
   ]
  },
  {
   "cell_type": "code",
   "execution_count": 23,
   "metadata": {},
   "outputs": [
    {
     "data": {
      "image/png": "[encoded data removed]",
      "text/plain": [
       "<Figure size 720x288 with 2 Axes>"
      ]
     },
     "metadata": {
      "needs_background": "light"
     },
     "output_type": "display_data"
    }
   ],
   "source": [
    "# Call the 'plotmulti' function above to compare the two histograms for beta0\n",
    "plotmulti(beta0_list, beta0_randUni)\n"
   ]
  },
  {
   "cell_type": "code",
   "execution_count": 24,
   "metadata": {},
   "outputs": [
    {
     "data": {
      "image/png": "[encoded data removed]",
      "text/plain": [
       "<Figure size 720x288 with 2 Axes>"
      ]
     },
     "metadata": {
      "needs_background": "light"
     },
     "output_type": "display_data"
    }
   ],
   "source": [
    "# Call the 'plotmulti' function above to compare the two histograms for beta1\n",
    "plotmulti(beta1_list, beta1_randUni)\n"
   ]
  },
  {
   "cell_type": "code",
   "execution_count": 0,
   "metadata": {},
   "outputs": [],
   "source": []
  }
 ],
 "metadata": {
  "kernelspec": {
   "display_name": "Python 3",
   "language": "python",
   "name": "python3"
  },
  "language_info": {
   "codemirror_mode": {
    "name": "ipython",
    "version": 3
   },
   "file_extension": ".py",
   "mimetype": "text/x-python",
   "name": "python",
   "nbconvert_exporter": "python",
   "pygments_lexer": "ipython3",
   "version": "3.8.5"
  }
 },
 "nbformat": 4,
 "nbformat_minor": 4
}
