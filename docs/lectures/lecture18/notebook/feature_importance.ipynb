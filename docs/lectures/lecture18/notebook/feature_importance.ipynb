{
 "cells": [
  {
   "cell_type": "markdown",
   "metadata": {},
   "source": [
    "## Title :\n",
    "\n",
    "Exercise: Feature Importance\n",
    "\n",
    "The goal of this exercise is to compare two feature importance methods; MDI, and Permutation Importance. For a discussion on the merits of each go to this <a href=\"https://scikit-learn.org/stable/modules/permutation_importance.html\" target=\"_blank\">link</a>.\n",
    "\n",
    "## Description :\n",
    "\n",
    "<img src=\"../fig/fig2.png\" style=\"width: 500px;\">\n",
    "\n",
    "## Instructions:\n",
    "\n",
    "- Read the dataset `heart.csv` as a pandas dataframe, and take a quick look at the data.\n",
    "- Assign the predictor and response variables as per the instructions given in the scaffold.\n",
    "- Set a max_depth value.\n",
    "- Define a `DecisionTreeClassifier` and fit on the entire data.\n",
    "- Define a `RandomForestClassifier` and fit on the entire data.\n",
    "- Calculate Permutation Importance for each of the two models. Remember that the MDI is automatically computed by sklearn when you call the classifiers.\n",
    "- Use the routines provided to display the feature importance of bar plots. The plots will look similar to the one given above.\n",
    "\n",
    "## Hints: \n",
    "\n",
    "<a href=\"https://scikit-learn.org/stable/auto_examples/ensemble/plot_forest_importances.html#\" target=\"_blank\">forest.feature_importances_</a>\n",
    "Calculate the impurity-based feature importance.\n",
    "\n",
    "<a href=\"https://scikit-learn.org/stable/modules/generated/sklearn.inspection.permutation_importance.html#sklearn.inspection.permutation_importance\" target=\"_blank\">sklearn.inspection.permutation_importance()</a>\n",
    "Calculate the permutation-based feature importance.\n",
    "\n",
    "<a href=\"https://scikit-learn.org/stable/modules/generated/sklearn.ensemble.RandomForestClassifier.html\" target=\"_blank\">sklearn.RandomForestClassifier()</a>\n",
    "Returns a random forest classifier object.\n",
    "\n",
    "<a href=\"https://scikit-learn.org/stable/modules/generated/sklearn.tree.DecisionTreeClassifier.html\" target=\"_blank\">sklearn.DecisionTreeClassifier()</a>\n",
    "Returns a decision tree classifier object.\n",
    "\n",
    "\n",
    "**NOTE** - MDI is automatically computed by sklearn by calling RandomForestClassifier and/or DecisionTreeClassifier."
   ]
  },
  {
   "cell_type": "code",
   "execution_count": 0,
   "metadata": {},
   "outputs": [],
   "source": [
    "# Import necessary libraries\n",
    "import numpy as np\n",
    "import pandas as pd\n",
    "import matplotlib.pyplot as plt\n",
    "from sklearn.ensemble import RandomForestClassifier\n",
    "from sklearn.model_selection import train_test_split\n",
    "from sklearn.inspection import permutation_importance\n",
    "from sklearn.tree import DecisionTreeClassifier\n",
    "from helper import plot_permute_importance, plot_feature_importance\n",
    "\n",
    "%matplotlib inline\n"
   ]
  },
  {
   "cell_type": "code",
   "execution_count": 0,
   "metadata": {},
   "outputs": [],
   "source": [
    "# Read the dataset \"heart.csv\"\n",
    "df = pd.read_csv(\"heart.csv\")\n",
    "\n",
    "# Take a quick look at the data \n",
    "df.head()\n"
   ]
  },
  {
   "cell_type": "code",
   "execution_count": 0,
   "metadata": {},
   "outputs": [],
   "source": [
    "# Assign the predictor and response variables.\n",
    "\n",
    "# 'AHD' is the response and all the other columns are the predictors\n",
    "X = ___\n",
    "y = ___\n"
   ]
  },
  {
   "cell_type": "code",
   "execution_count": 0,
   "metadata": {},
   "outputs": [],
   "source": [
    "# Set the model parameters\n",
    "\n",
    "# The random state is fized for testing purposes\n",
    "random_state = 44\n",
    "\n",
    "# Choose a `max_depth` for your trees \n",
    "max_depth = ___\n"
   ]
  },
  {
   "cell_type": "markdown",
   "metadata": {},
   "source": [
    "### SINGLE TREE"
   ]
  },
  {
   "cell_type": "code",
   "execution_count": 0,
   "metadata": {},
   "outputs": [],
   "source": [
    "### edTest(test_decision_tree) ###\n",
    "\n",
    "# Define a Decision Tree classifier with random_state as the above defined variable\n",
    "# Set the maximum depth to be max_depth\n",
    "tree = ___\n",
    "\n",
    "# Fit the model on the entire data\n",
    "tree.fit(X, y);\n",
    "\n",
    "# Using Permutation Importance to get the importance of features for the Decision Tree \n",
    "# with random_state as the above defined variable\n",
    "tree_result = ___\n"
   ]
  },
  {
   "cell_type": "markdown",
   "metadata": {},
   "source": [
    "### RANDOM FOREST"
   ]
  },
  {
   "cell_type": "code",
   "execution_count": 0,
   "metadata": {},
   "outputs": [],
   "source": [
    "### edTest(test_random_forest) ###\n",
    "\n",
    "# Define a Random Forest classifier with random_state as the above defined variable\n",
    "# Set the maximum depth to be max_depth and use 10 estimators\n",
    "forest = ___\n",
    "\n",
    "# Fit the model on the entire data\n",
    "forest.fit(X, y);\n",
    "\n",
    "# Use Permutation Importance to get the importance of features for the Random Forest model \n",
    "# with random_state as the above defined variable\n",
    "forest_result = ___\n"
   ]
  },
  {
   "cell_type": "markdown",
   "metadata": {},
   "source": [
    "### PLOTTING THE FEATURE RANKING"
   ]
  },
  {
   "cell_type": "code",
   "execution_count": 0,
   "metadata": {},
   "outputs": [],
   "source": [
    "# Helper code to visualize the feature importance using 'MDI'\n",
    "plot_feature_importance(tree,forest,X,y);\n",
    "\n",
    "# Helper code to visualize the feature importance using 'permutation feature importance'\n",
    "plot_permute_importance(tree_result,forest_result,X,y);\n"
   ]
  },
  {
   "cell_type": "markdown",
   "metadata": {},
   "source": [
    "⏸ A common criticism for the MDI method is that it assigns a lot of importance to noisy features (more here). Did you make such an observation in the plots above?"
   ]
  },
  {
   "cell_type": "code",
   "execution_count": 0,
   "metadata": {},
   "outputs": [],
   "source": [
    "### edTest(test_chow1) ###\n",
    "# Type your answer within in the quotes given\n",
    "answer1 = '___'\n"
   ]
  },
  {
   "cell_type": "markdown",
   "metadata": {},
   "source": [
    "⏸ After marking, change the max_depth for your classifiers to a very low value such as \n",
    "3\n",
    "3, and see if you see a change in the relative importance of predictors."
   ]
  },
  {
   "cell_type": "code",
   "execution_count": 0,
   "metadata": {},
   "outputs": [],
   "source": [
    "### edTest(test_chow2) ###\n",
    "# Type your answer within in the quotes given\n",
    "answer2 = '___'\n"
   ]
  }
 ],
 "metadata": {
  "kernelspec": {
   "display_name": "Python 3 (ipykernel)",
   "language": "python",
   "name": "python3"
  },
  "language_info": {
   "codemirror_mode": {
    "name": "ipython",
    "version": 3
   },
   "file_extension": ".py",
   "mimetype": "text/x-python",
   "name": "python",
   "nbconvert_exporter": "python",
   "pygments_lexer": "ipython3",
   "version": "3.8.5"
  }
 },
 "nbformat": 4,
 "nbformat_minor": 4
}
