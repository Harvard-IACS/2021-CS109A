{
 "cells": [
  {
   "cell_type": "markdown",
   "metadata": {},
   "source": [
    "## Title :\n",
    "Exercise: Simple Lasso and Ridge Regularization\n",
    "\n",
    "## Description :\n",
    "The aim of this exercise is to understand **Lasso and Ridge regularization.**\n",
    "\n",
    "For this we will plot the predictor vs coefficient as a horizontal bar chart. The graph will look similar to the one given below.\n",
    "\n",
    "<img src=\"../fig/fig2.png\" style=\"width: 500px;\">\n",
    "\n",
    "## Data Description:\n",
    "\n",
    "## Instructions:\n",
    "\n",
    "- Read the dataset and assign the predictor and response variables.\n",
    "- Split the dataset into train and validation sets.\n",
    "- Fit a multi-linear regression model.\n",
    "- Compute the validation MSE of the model.\n",
    "- Compute the coefficient of the predictors and store to the plot later.\n",
    "- Implement Lasso regularization by specifying an alpha value. Repeat steps 4 and 5.\n",
    "- Implement Ridge regularization by specifying the same alpha value. Repeat steps 4 and 5.\n",
    "- Plot the coefficient of all the 3 models in one graph as shown above.\n",
    "\n",
    "## Hints: \n",
    "\n",
    "<a href=\"https://scikit-learn.org/stable/modules/generated/sklearn.preprocessing.normalize.html\" target=\"_blank\">sklearn.normalize()</a>\n",
    "Scales input vectors individually to the unit norm (vector length)\n",
    "\n",
    "<a href=\"https://scikit-learn.org/stable/modules/generated/sklearn.model_selection.train_test_split.html\" target=\"_blank\">sklearn.train_test_split()</a>\n",
    "Splits the data into random train and test subsets\n",
    "\n",
    "<a href=\"https://scikit-learn.org/stable/modules/generated/sklearn.linear_model.LinearRegression.html\" target=\"_blank\">sklearn.LinearRegression()</a>\n",
    "LinearRegression fits a linear model\n",
    "\n",
    "<a href=\"https://scikit-learn.org/stable/modules/generated/sklearn.linear_model.LinearRegression.html#sklearn.linear_model.LinearRegression.fit\" target=\"_blank\">sklearn.fit()</a>\n",
    "Fits the linear model to the training data\n",
    "\n",
    "<a href=\"https://scikit-learn.org/stable/modules/generated/sklearn.linear_model.LinearRegression.html#sklearn.linear_model.LinearRegression.predict\" target=\"_blank\">sklearn.predict()</a>\n",
    "Predict using the linear modReturns the coefficient of the predictors in the model.\n",
    "\n",
    "<a href=\"https://scikit-learn.org/stable/modules/generated/sklearn.metrics.mean_squared_error.html\" target=\"_blank\">mean_squared_error()</a>\n",
    "Mean squared error regression loss\n",
    "\n",
    "<a href=\"http://scikit-learn.org/stable/modules/generated/sklearn.linear_model.Lasso.html\" target=\"_blank\">sklearn.Lasso()</a>\n",
    "Linear Model trained with L1 prior as a regularizer\n",
    "\n",
    "<a href=\"https://scikit-learn.org/stable/modules/generated/sklearn.linear_model.Ridge.html\" target=\"_blank\">sklearn.Ridge()</a>\n",
    "Linear least squares with L2 regularization\n",
    "\n",
    "**Note:** This exercise is auto-graded and you can try multiple attempts. "
   ]
  },
  {
   "cell_type": "code",
   "execution_count": 99,
   "metadata": {
    "collapsed": true
   },
   "outputs": [],
   "source": [
    "# Import necessary libraries\n",
    "%matplotlib inline\n",
    "import pandas as pd\n",
    "import numpy as np\n",
    "import matplotlib.pyplot as plt\n",
    "from sklearn import preprocessing\n",
    "from sklearn.linear_model import Lasso\n",
    "from sklearn.linear_model import Ridge\n",
    "from sklearn.metrics import mean_squared_error\n",
    "from sklearn.linear_model import LinearRegression\n",
    "from sklearn.model_selection import train_test_split\n",
    "from sklearn.preprocessing import PolynomialFeatures\n"
   ]
  },
  {
   "cell_type": "markdown",
   "metadata": {},
   "source": [
    "### Reading the dataset"
   ]
  },
  {
   "cell_type": "code",
   "execution_count": 100,
   "metadata": {
    "collapsed": true
   },
   "outputs": [],
   "source": [
    "# Read the file \"Boston_housing.csv\" as a Pandas dataframe\n",
    "df = pd.read_csv(\"Boston_housing.csv\")\n"
   ]
  },
  {
   "cell_type": "markdown",
   "metadata": {},
   "source": [
    "## Predictors & Response variables\n",
    "\n",
    "Select the following columns as predictors\n",
    "- crim\n",
    "- indus\n",
    "- nox\n",
    "- rm\n",
    "- age\n",
    "- dis\n",
    "- rad\n",
    "- tax\n",
    "- ptratio\n",
    "- black\n",
    "- lstat\n",
    "\n",
    "#### Select the 'medv' column as response variable"
   ]
  },
  {
   "cell_type": "code",
   "execution_count": 101,
   "metadata": {},
   "outputs": [],
   "source": [
    "# Select a subdataframe of predictors mentioned above\n",
    "X = df[___]\n",
    "\n",
    "# Normalize the values of the dataframe \n",
    "X_norm = preprocessing.normalize(___)\n",
    "\n",
    "# Select medv as the response variable\n",
    "y = df[___]\n"
   ]
  },
  {
   "cell_type": "markdown",
   "metadata": {},
   "source": [
    "### Split the dataset into train and validation sets\n"
   ]
  },
  {
   "cell_type": "code",
   "execution_count": 102,
   "metadata": {},
   "outputs": [],
   "source": [
    "### edTest(test_random) ###\n",
    "# Split the data into train and validation sets with 70% train data and\n",
    "# random_state as 31\n",
    "X_train, X_val, y_train, y_val = train_test_split(___)\n"
   ]
  },
  {
   "cell_type": "markdown",
   "metadata": {},
   "source": [
    "### Multi-linear Regression Analysis"
   ]
  },
  {
   "cell_type": "code",
   "execution_count": 103,
   "metadata": {
    "collapsed": true
   },
   "outputs": [],
   "source": [
    "# Initialize a Linear Regression model\n",
    "lreg = LinearRegression()\n",
    "\n",
    "# Fit the linear model on the train data\n",
    "lreg.fit(___)\n",
    "\n",
    "# Predict on the validation data\n",
    "y_val_pred = lreg.predict(___)\n"
   ]
  },
  {
   "cell_type": "code",
   "execution_count": 0,
   "metadata": {
    "collapsed": true
   },
   "outputs": [],
   "source": [
    "# Use the mean_squared_error function to compute the validation mse\n",
    "mse = mean_squared_error(___,___)\n",
    "\n",
    "# Print the MSE value\n",
    "print (\"Multi-linear regression validation MSE is\", mse)\n"
   ]
  },
  {
   "cell_type": "markdown",
   "metadata": {},
   "source": [
    "### Obtaining the coefficients of the predictors"
   ]
  },
  {
   "cell_type": "code",
   "execution_count": 105,
   "metadata": {},
   "outputs": [],
   "source": [
    "# Helper code to create a dictionary of the coefficients \n",
    "# along with the predictors as keys\n",
    "lreg_coef = dict(zip(X.columns, np.transpose(lreg.coef_)))\n",
    "\n",
    "# Linear regression coefficients for plotting\n",
    "lreg_x = list(lreg_coef.keys())\n",
    "lreg_y = list(lreg_coef.values())\n"
   ]
  },
  {
   "cell_type": "markdown",
   "metadata": {},
   "source": [
    "### Implementing Lasso regularization"
   ]
  },
  {
   "cell_type": "code",
   "execution_count": 106,
   "metadata": {
    "collapsed": true
   },
   "outputs": [],
   "source": [
    "# Create a Lasso Regression model with alpha as 0.008\n",
    "lasso_reg = Lasso(___)\n",
    "\n",
    "# Fit the model on the train data\n",
    "lasso_reg.fit(___)\n",
    "\n",
    "# Predict on the validation data using the trained model\n",
    "y_val_pred =lasso_reg.predict(___)\n"
   ]
  },
  {
   "cell_type": "markdown",
   "metadata": {},
   "source": [
    "### Computing the MSE with Lasso regularization"
   ]
  },
  {
   "cell_type": "code",
   "execution_count": 0,
   "metadata": {
    "collapsed": true
   },
   "outputs": [],
   "source": [
    "# Calculate the validation MSE\n",
    "mse_lasso = mean_squared_error(___,___)\n",
    "\n",
    "# Print the validation MSE\n",
    "print (\"Lasso validation MSE is\", mse_lasso)\n"
   ]
  },
  {
   "cell_type": "code",
   "execution_count": 108,
   "metadata": {
    "collapsed": true
   },
   "outputs": [],
   "source": [
    "# Hhelper code to make a dictionary of the predictors \n",
    "# along with the coefficients associated with them\n",
    "lasso_coef = dict(zip(X.columns, np.transpose(lasso_reg.coef_))) \n",
    "\n",
    "# Get the Lasso regularisation coefficients for plotting\n",
    "lasso_x = list(lasso_coef.keys())\n",
    "lasso_y = list(lasso_coef.values())\n"
   ]
  },
  {
   "cell_type": "markdown",
   "metadata": {},
   "source": [
    "### Implementing Ridge regularization"
   ]
  },
  {
   "cell_type": "code",
   "execution_count": 109,
   "metadata": {
    "collapsed": true
   },
   "outputs": [],
   "source": [
    "# Create a Ridge Regression model with alpha as 0.008\n",
    "ridgeReg = Ridge(___)\n",
    "\n",
    "# Fit the model on the train data\n",
    "ridgeReg.fit(___)\n",
    "\n",
    "# Predict the trained model on the validation data\n",
    "y_val_pred = ridgeReg.predict(___)\n"
   ]
  },
  {
   "cell_type": "markdown",
   "metadata": {},
   "source": [
    "### Computing the MSE with Ridge regularization"
   ]
  },
  {
   "cell_type": "code",
   "execution_count": 0,
   "metadata": {
    "collapsed": true
   },
   "outputs": [],
   "source": [
    "### edTest(test_mse) ###\n",
    "\n",
    "# Calculate the validation MSE\n",
    "mse_ridge = mean_squared_error(___)\n",
    "\n",
    "# Print he valdiation MSE\n",
    "print (\"Ridge validation MSE is\", mse_ridge)\n"
   ]
  },
  {
   "cell_type": "markdown",
   "metadata": {},
   "source": [
    "### Obtaining the coefficients of the predictors"
   ]
  },
  {
   "cell_type": "code",
   "execution_count": 111,
   "metadata": {
    "collapsed": true
   },
   "outputs": [],
   "source": [
    "# Helper code to make a dictionary of the predictors \n",
    "# along with the coefficients associated with them \n",
    "ridge_coef = dict(zip(X.columns, np.transpose(ridgeReg.coef_))) \n",
    "\n",
    "# Ridge regularisation coefficients for plotting\n",
    "ridge_x = list(ridge_coef.keys())\n",
    "ridge_y = list(ridge_coef.values())\n"
   ]
  },
  {
   "cell_type": "markdown",
   "metadata": {},
   "source": [
    "### Plotting the graph"
   ]
  },
  {
   "cell_type": "code",
   "execution_count": 0,
   "metadata": {
    "collapsed": true
   },
   "outputs": [],
   "source": [
    "# Helper code below to visualise your results\n",
    "\n",
    "plt.rcdefaults()\n",
    "\n",
    "plt.barh(lreg_x,lreg_y,1.0, align='edge',color=\"#D3B4B4\", label=\"Linear Regression\")\n",
    "plt.barh(lasso_x,lasso_y,0.75 ,align='edge',color=\"#81BDB2\",label = \"Lasso regularisation\")\n",
    "plt.barh(ridge_x,ridge_y,0.25 ,align='edge',color=\"#7E7EC0\", label=\"Ridge regularisation\")\n",
    "plt.grid(linewidth=0.2)\n",
    "plt.xlabel(\"Coefficient\")\n",
    "plt.ylabel(\"Predictors\")\n",
    "plt.legend(loc='best')\n",
    "plt.xlim(-6500,3500)\n",
    "plt.show()\n"
   ]
  },
  {
   "cell_type": "markdown",
   "metadata": {},
   "source": [
    "#### ⏸ How does the performance of Lasso and Ridge regression compare with that of Linear regression?"
   ]
  },
  {
   "cell_type": "code",
   "execution_count": 0,
   "metadata": {},
   "outputs": [],
   "source": [
    "### edTest(test_chow1) ###\n",
    "# Submit an answer choice as a string below \n",
    "answer1 = '___'\n"
   ]
  },
  {
   "cell_type": "markdown",
   "metadata": {},
   "source": [
    "#### ⏸ Change the alpha values for both, Lasso and Ridge, to 1000. What happens to the coefficients?\n"
   ]
  },
  {
   "cell_type": "code",
   "execution_count": 0,
   "metadata": {},
   "outputs": [],
   "source": [
    "### edTest(test_chow2) ###\n",
    "# Submit an answer choice as a string below \n",
    "answer2 = '___'\n"
   ]
  }
 ],
 "metadata": {
  "kernelspec": {
   "display_name": "Python 3",
   "language": "python",
   "name": "python3"
  },
  "language_info": {
   "codemirror_mode": {
    "name": "ipython",
    "version": 3
   },
   "file_extension": ".py",
   "mimetype": "text/x-python",
   "name": "python",
   "nbconvert_exporter": "python",
   "pygments_lexer": "ipython3",
   "version": "3.8.5"
  }
 },
 "nbformat": 4,
 "nbformat_minor": 4
}
