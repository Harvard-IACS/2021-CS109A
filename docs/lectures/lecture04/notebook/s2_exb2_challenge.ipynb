{
 "cells": [
  {
   "cell_type": "markdown",
   "metadata": {},
   "source": [
    "## Title :\n",
    "Exercise: Multi-collinearity vs Model Predictions\n",
    "\n",
    "## Description :\n",
    "The goal of this exercise is to see how multi-collinearity can affect the predictions of a model.\n",
    "\n",
    "For this, perform a multi-linear regression on the given dataset and compare the coefficients with those from simple linear regression of the individual predictors.\n",
    "\n",
    "## Data Description:\n",
    "\n",
    "## Instructions:\n",
    "\n",
    "- Read the dataset `colinearity.csv` as a dataframe.\n",
    "- For each of the predictor variable, create a linear regression model with the same response variable.\n",
    "- Compute the coefficients for each model and store in a list.\n",
    "- Fit all predictors using a separate multi-linear regression object.\n",
    "- Calculate the coefficients of each model.\n",
    "- Compare the coefficients of the multi-linear regression model with those of the simple linear regression model.\n",
    "\n",
    "**DISCUSSION:** Why do you think the coefficients change and what does it mean? \n",
    "\n",
    "## Hints: \n",
    "\n",
    "<a href=\"https://pandas.pydata.org/pandas-docs/stable/reference/api/pandas.read_csv.html\" target=\"_blank\">pd.read_csv(filename)</a>\n",
    "Returns a pandas dataframe containing the data and labels from the file data.\n",
    "\n",
    "<a href=\"https://pandas.pydata.org/pandas-docs/stable/reference/api/pandas.DataFrame.drop.html\" target=\"_blank\">pd.DataFrame.drop()</a>\n",
    "Drop specified labels from rows or columns.\n",
    "\n",
    "<a href=\"https://scikit-learn.org/stable/index.html\" target=\"_blank\">sklearn.linear_model.LinearRegression</a>\n",
    "Returns a linear regression object from the sklearn library.\n",
    "\n",
    "<a href=\"https://scikit-learn.org/stable/modules/generated/sklearn.linear_model.LinearRegression.html\" target=\"_blank\">sklearn.linear_model.LinearRegression.coef_</a>\n",
    "This attribute returns the coefficient(s) of the linear regression object.\n",
    "\n",
    "<a href=\"https://scikit-learn.org/stable/modules/generated/sklearn.linear_model.LinearRegression.html\" target=\"_blank\">sklearn.linear_model.LinearRegression.fit()</a>\n",
    "Fit linear model to the data.\n",
    "\n",
    "<a href=\"https://pandas.pydata.org/pandas-docs/version/0.22.0/generated/pandas.Series.reshape.html\" target=\"_blank\">pd.Series.reshape()</a>\n",
    "Return a np.ndndarray with the values in the specified shape.\n",
    " \n",
    "**Note:** This exercise is auto-graded and you can try multiple attempts. "
   ]
  },
  {
   "cell_type": "code",
   "execution_count": 0,
   "metadata": {},
   "outputs": [],
   "source": [
    "# Import necessary libraries\n",
    "import numpy as np\n",
    "import pandas as pd\n",
    "import seaborn as sns \n",
    "from pprint import pprint\n",
    "import matplotlib.pyplot as plt\n",
    "from sklearn.linear_model import LinearRegression\n",
    "%matplotlib inline\n"
   ]
  },
  {
   "cell_type": "code",
   "execution_count": 0,
   "metadata": {},
   "outputs": [],
   "source": [
    "# Read the file named \"colinearity.csv\" into a Pandas dataframe\n",
    "df = pd.read_csv(___)\n"
   ]
  },
  {
   "cell_type": "code",
   "execution_count": 0,
   "metadata": {},
   "outputs": [],
   "source": [
    "# Take a quick look at the dataset\n",
    "df.head()\n"
   ]
  },
  {
   "cell_type": "markdown",
   "metadata": {},
   "source": [
    "#### Creation of Linear Regression Objects"
   ]
  },
  {
   "cell_type": "code",
   "execution_count": 0,
   "metadata": {},
   "outputs": [],
   "source": [
    "# Choose all the predictors as the variable 'X' (note capitalization of X for multiple features)\n",
    "X = df.drop([___],axis=1)\n",
    "\n",
    "# Choose the response variable 'y' \n",
    "y = df.___\n"
   ]
  },
  {
   "cell_type": "code",
   "execution_count": 0,
   "metadata": {},
   "outputs": [],
   "source": [
    "### edTest(test_coeff) ###\n",
    "\n",
    "# Initialize a list to store the beta values for each linear regression model\n",
    "linear_coef = []\n",
    "\n",
    "# Loop over all the predictors\n",
    "# In each loop \"i\" holds the name of the predictor \n",
    "for i in X:\n",
    "    \n",
    "    # Set the current predictor as the variable x\n",
    "    x = df[[___]]\n",
    "\n",
    "    # Create a linear regression object\n",
    "    linreg = ____\n",
    "\n",
    "    # Fit the model with training data \n",
    "    # Remember to choose only one column at a time i.e. given by x\n",
    "    linreg.fit(___,___)\n",
    "    \n",
    "    # Add the coefficient value of the model to the list\n",
    "    linear_coef.append(linreg.coef_)\n"
   ]
  },
  {
   "cell_type": "markdown",
   "metadata": {},
   "source": [
    "### Multi-Linear Regression using all variables"
   ]
  },
  {
   "cell_type": "code",
   "execution_count": 0,
   "metadata": {},
   "outputs": [],
   "source": [
    "# Perform multi-linear regression with all predictors\n",
    "multi_linear = LinearRegression()\n",
    "\n",
    "# Fit the multi-linear regression on all features of the entire data\n",
    "multi_linear.fit(___,___)\n",
    "\n",
    "# Get the coefficients (plural) of the model\n",
    "multi_coef = multi_linear.coef_\n"
   ]
  },
  {
   "cell_type": "markdown",
   "metadata": {},
   "source": [
    "#### Printing the individual $\\beta$ values"
   ]
  },
  {
   "cell_type": "code",
   "execution_count": 0,
   "metadata": {},
   "outputs": [],
   "source": [
    "# Helper code to see the beta values of the linear regression models\n",
    "\n",
    "print('By simple(one variable) linear regression for each variable:', sep = '\\n')\n",
    "\n",
    "for i in range(4):\n",
    "    pprint(f'Value of beta{i+1} = {linear_coef[i][0]:.2f}')\n"
   ]
  },
  {
   "cell_type": "code",
   "execution_count": 0,
   "metadata": {},
   "outputs": [],
   "source": [
    "### edTest(test_multi_coeff) ###\n",
    "\n",
    "# Helper code to compare with the values from the multi-linear regression\n",
    "print('By multi-Linear regression on all variables')\n",
    "for i in range(4):\n",
    "    pprint(f'Value of beta{i+1} = {round(multi_coef[i],2)}')\n",
    "    "
   ]
  },
  {
   "cell_type": "markdown",
   "metadata": {},
   "source": [
    "⏸ Why do you think the $\\beta$ values are different in the two cases?\n",
    "\n",
    "#### A. Because the random seed selected is not as random as we would imagine.\n",
    "#### B. Because of collinearity between $\\beta_1$ and $\\beta_4$\n",
    "#### C. Because multi-linear regression is not a stable model\n",
    "#### D. Because of the measurement error in the data\n"
   ]
  },
  {
   "cell_type": "code",
   "execution_count": 0,
   "metadata": {},
   "outputs": [],
   "source": [
    "### edTest(test_chow1) ###\n",
    "# Submit an answer choice as a string below \n",
    "# (Eg. if you choose option C, put 'C')\n",
    "answer1 = '___'\n"
   ]
  },
  {
   "cell_type": "code",
   "execution_count": 0,
   "metadata": {},
   "outputs": [],
   "source": [
    "# Helper code to visualize the heatmap of the covariance matrix\n",
    "corrMatrix = df[['x1','x2','x3','x4']].corr() \n",
    "sns.heatmap(corrMatrix, annot=True) \n",
    "plt.show()\n"
   ]
  }
 ],
 "metadata": {
  "kernelspec": {
   "display_name": "Python 3",
   "language": "python",
   "name": "python3"
  },
  "language_info": {
   "codemirror_mode": {
    "name": "ipython",
    "version": 3
   },
   "file_extension": ".py",
   "mimetype": "text/x-python",
   "name": "python",
   "nbconvert_exporter": "python",
   "pygments_lexer": "ipython3",
   "version": "3.8.5"
  }
 },
 "nbformat": 4,
 "nbformat_minor": 4
}
